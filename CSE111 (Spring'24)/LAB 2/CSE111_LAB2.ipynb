{
  "cells": [
    {
      "cell_type": "markdown",
      "metadata": {},
      "source": [
        "Classwork"
      ]
    },
    {
      "cell_type": "code",
      "execution_count": null,
      "metadata": {
        "colab": {
          "base_uri": "https://localhost:8080/",
          "height": 70
        },
        "id": "v34MFjvQWNdu",
        "outputId": "3144daf2-0cce-42ce-a70b-a005af40c436"
      },
      "outputs": [
        {
          "name": "stdout",
          "output_type": "stream",
          "text": [
            "175\n",
            "96\n"
          ]
        },
        {
          "data": {
            "application/vnd.google.colaboratory.intrinsic+json": {
              "type": "string"
            },
            "text/plain": [
              "'Score is 31.3. You are Obese'"
            ]
          },
          "execution_count": 7,
          "metadata": {},
          "output_type": "execute_result"
        }
      ],
      "source": [
        "#Task 1\n",
        "\n",
        "def AmiKenoMota(h,w):\n",
        "  height = h/100\n",
        "  weight = w\n",
        "  BMI = weight/(height**2)\n",
        "  condition = \"\"\n",
        "  if BMI < 18.5:\n",
        "    condition = \"underweight\"\n",
        "  elif 18.5 <= BMI <= 24.9:\n",
        "    condition = \"Normal\"\n",
        "  elif 25 <= BMI <= 30:\n",
        "    condition = \"Overweight\"\n",
        "  else:\n",
        "    condition = \"Obese\"\n",
        "  BMI = round(BMI,1)\n",
        "  return (f\"Score is {BMI}. You are {condition}\")\n",
        "\n",
        "AmiKenoMota(h=float(input()),w=float(input()))"
      ]
    },
    {
      "cell_type": "code",
      "execution_count": null,
      "metadata": {
        "colab": {
          "base_uri": "https://localhost:8080/"
        },
        "id": "u7_i_oAxXNav",
        "outputId": "1359a9ed-cc5f-491e-d602-a0a19077044a"
      },
      "outputs": [
        {
          "data": {
            "text/plain": [
              "243.6"
            ]
          },
          "execution_count": 66,
          "metadata": {},
          "output_type": "execute_result"
        }
      ],
      "source": [
        "#Task 2\n",
        "\n",
        "def foodpanda(item,place=\"Mohakhali\"):\n",
        "  foods = {\"BBQ Chicken Cheese Burger\" : 250, \"Beef Burger\" : 170, \"Naga Drums\" : 200}\n",
        "  meal_cost = foods[item]\n",
        "  delivery = 0\n",
        "  tax = meal_cost*0.08\n",
        "  total = 0\n",
        "\n",
        "  if place != \"Mohakhali\":\n",
        "    delivery = 60\n",
        "  else:\n",
        "    delivery = 40\n",
        "  total = meal_cost + delivery + tax\n",
        "  return total\n",
        "\n",
        "foodpanda(\"Beef Burger\",\"Dhanmondi\")"
      ]
    },
    {
      "cell_type": "code",
      "execution_count": null,
      "metadata": {
        "colab": {
          "base_uri": "https://localhost:8080/",
          "height": 35
        },
        "id": "QVcJfnbkb0hm",
        "outputId": "3e06476c-b9e2-4d16-82b7-be75c669dd46"
      },
      "outputs": [
        {
          "data": {
            "application/vnd.google.colaboratory.intrinsic+json": {
              "type": "string"
            },
            "text/plain": [
              "'Not a Palindrome'"
            ]
          },
          "execution_count": 24,
          "metadata": {},
          "output_type": "execute_result"
        }
      ],
      "source": [
        "#Task 4\n",
        "\n",
        "def PalindromeChecker(check):\n",
        "  rev_str = \"\"\n",
        "  for i in range(len(check)):\n",
        "    if check[i] == \" \":\n",
        "      pass\n",
        "    else:\n",
        "      rev_str += check[i]\n",
        "\n",
        "  if rev_str == rev_str[::-1]:\n",
        "    return \"Palindrome\"\n",
        "  else:\n",
        "    return \"Not a Palindrome\"\n",
        "\n",
        "PalindromeChecker(\"hello\")"
      ]
    },
    {
      "cell_type": "code",
      "execution_count": null,
      "metadata": {
        "colab": {
          "base_uri": "https://localhost:8080/",
          "height": 35
        },
        "id": "keGo4n5Uma4y",
        "outputId": "9b0a6dfa-0da8-41cd-ec95-a2e0b60f10a0"
      },
      "outputs": [
        {
          "data": {
            "application/vnd.google.colaboratory.intrinsic+json": {
              "type": "string"
            },
            "text/plain": [
              "'Not a Palindrome'"
            ]
          },
          "execution_count": 67,
          "metadata": {},
          "output_type": "execute_result"
        }
      ],
      "source": [
        "#Task 4 (revised)\n",
        "\n",
        "def PalindromeChecker(check):\n",
        "  check1 = \"\"\n",
        "  for j in range(len(check)):\n",
        "    if check[j] == \" \":\n",
        "      pass\n",
        "    else:\n",
        "      check1 += check[j]\n",
        "\n",
        "  j = -1\n",
        "  status = False\n",
        "\n",
        "  for i in range(len(check1)//2):\n",
        "    if check1[i] == check1[j]:\n",
        "      status = True\n",
        "    else:\n",
        "      status = False\n",
        "    j = j-1\n",
        "\n",
        "    if status == True:\n",
        "      return \"Palindrome\"\n",
        "    else:\n",
        "      return \"Not a Palindrome\"\n",
        "\n",
        "PalindromeChecker(\"hello\")"
      ]
    },
    {
      "cell_type": "code",
      "execution_count": null,
      "metadata": {
        "colab": {
          "base_uri": "https://localhost:8080/",
          "height": 35
        },
        "id": "ecHWmLwYc8yl",
        "outputId": "a3be154e-f2e5-435a-8c3b-f03ee5939074"
      },
      "outputs": [
        {
          "data": {
            "application/vnd.google.colaboratory.intrinsic+json": {
              "type": "string"
            },
            "text/plain": [
              "\"My favorite animal is a dog. A dog has sharp teeth so that it can eat flesh very easily. Do you know my pet dog's name? I love my pet very much\""
            ]
          },
          "execution_count": 65,
          "metadata": {},
          "output_type": "execute_result"
        }
      ],
      "source": [
        "#Task 6\n",
        "\n",
        "def casedetection(sentence):\n",
        "  new_copy = \"\"\n",
        "  for i in range(len(sentence)):\n",
        "    if i == 0:\n",
        "      new_copy += sentence[i].upper()\n",
        "    elif sentence[i-2] in \".!?\":\n",
        "      new_copy += sentence[i].upper()\n",
        "    elif sentence[i] == \" i \":\n",
        "      new_copy += sentence[i].upper()\n",
        "    else:\n",
        "      new_copy += sentence[i]\n",
        "  return new_copy\n",
        "\n",
        "casedetection(\"my favorite animal is a dog. a dog has sharp teeth so that it can eat flesh very easily. do you know my pet dog's name? i love my pet very much\")"
      ]
    },
    {
      "cell_type": "markdown",
      "metadata": {},
      "source": [
        "Homework"
      ]
    },
    {
      "cell_type": "code",
      "execution_count": null,
      "metadata": {},
      "outputs": [],
      "source": [
        "#Task 1\n",
        "\n",
        "def hospital_fee(**kwargs):\n",
        "    max_amount = 0\n",
        "    max_payer = []\n",
        "    \n",
        "    for payer, amount in kwargs.items():\n",
        "        if amount > max_amount:\n",
        "            max_amount = amount\n",
        "            max_payer = [payer]\n",
        "        elif amount == max_amount:\n",
        "            max_payer.append(payer)\n",
        "    \n",
        "    new_str = \", \".join(max_payer)\n",
        "\n",
        "    return max_amount, new_str\n",
        "\n",
        "max_amount, max_payer = hospital_fee(Neymar=1000, Dembele=600, Reus=500, Bale=1000)\n",
        "print(f\"Highest fee was {max_amount} tk which was paid by {max_payer}\")"
      ]
    },
    {
      "cell_type": "code",
      "execution_count": null,
      "metadata": {},
      "outputs": [],
      "source": [
        "#Task 2\n",
        "\n",
        "def is_james_bond(n):\n",
        "    bond_checker = False\n",
        "    for i in range(len(n)):\n",
        "        if n[i] == 0:\n",
        "            for j in range(i+1,(len(n))):\n",
        "                if n[j] == 0:\n",
        "                    for k in range(j+1,len(n)):\n",
        "                        if n[k] == 7:\n",
        "                            bond_checker = True\n",
        "    return bond_checker\n",
        "\n",
        "result = is_james_bond( [1, 0, 2, 0, 4, 7, 5] )\n",
        "print(result)"
      ]
    },
    {
      "cell_type": "code",
      "execution_count": null,
      "metadata": {},
      "outputs": [],
      "source": [
        "#Task 3\n",
        "\n",
        "def assign_students_to_sections(sections, *student_names):\n",
        "    section_dict = {section: [] for section in sections}\n",
        "\n",
        "    for student_name in student_names:\n",
        "        ascii_sum = 0\n",
        "        for char in student_name:\n",
        "            ascii_sum += ord(char)\n",
        "        \n",
        "        section_key = sections[ascii_sum % len(sections)]\n",
        "        section_dict[section_key].append(student_name)\n",
        "\n",
        "    return section_dict\n",
        "\n",
        "result = assign_students_to_sections('ABCDE', 'Alice', 'Bob', 'Charlie', 'David', 'Eve', 'Frank', 'Grace')\n",
        "print(result)"
      ]
    },
    {
      "cell_type": "code",
      "execution_count": null,
      "metadata": {},
      "outputs": [],
      "source": [
        "#Task 4\n",
        "\n",
        "def username_generator(first, last, id, mid=None):\n",
        "    user_name = \"\"\n",
        "\n",
        "    user_name += first[:3:].upper()\n",
        "    \n",
        "    if mid:\n",
        "        mid_part = mid\n",
        "    else:\n",
        "        mid_part = \"\"   \n",
        "    user_name += mid_part\n",
        "\n",
        "    user_name += last[-3::1].lower()\n",
        "\n",
        "    user_name += \"_\"\n",
        "\n",
        "    user_name += str(id)[-4::1]\n",
        "\n",
        "    return user_name\n",
        "\n",
        "first_name, middle_name, last_name, student_id = input(\"First Name:\"), input(\"Middle Name:\"), input(\"Last Name:\"), int(input(\"Student ID:\"))\n",
        "\n",
        "print(username_generator(first_name, last_name, student_id, middle_name))"
      ]
    },
    {
      "cell_type": "code",
      "execution_count": null,
      "metadata": {},
      "outputs": [],
      "source": [
        "#Task 5\n",
        "\n",
        "def key_generator(*args):\n",
        "    encrypted_keys = []\n",
        "\n",
        "    for name in args:\n",
        "        encrypted_key = name[0].lower()\n",
        "\n",
        "        for char in(name[len(name)-2: 0: -1]):\n",
        "            encrypted_key += str(ord(char))\n",
        "\n",
        "        encrypted_key += name[-1].upper()\n",
        "        encrypted_keys.append(encrypted_key)\n",
        "\n",
        "    return encrypted_keys\n",
        "\n",
        "key_list = key_generator(\"Alex\", \"Bob\", \"Trudy\")\n",
        "print(\"Encrypted Keys:\", key_list)"
      ]
    },
    {
      "cell_type": "code",
      "execution_count": null,
      "metadata": {},
      "outputs": [],
      "source": [
        "#Task 6\n",
        "\n",
        "def playRockPaperScissor(rounds):\n",
        "    import random\n",
        "    moveslist = ['rock','paper','scissor']\n",
        "    man_score = 0\n",
        "    robot_score = 0\n",
        "    for i in range(rounds):\n",
        "        man_moves = input()\n",
        "        robot_moves = random.choice(moveslist)\n",
        "\n",
        "        if man_moves == 'rock':\n",
        "            if robot_moves == 'paper':\n",
        "                robot_score += 1\n",
        "            elif robot_moves == 'scissor':\n",
        "                man_score += 1\n",
        "            elif robot_moves == 'rock':\n",
        "                pass\n",
        "        \n",
        "        elif man_moves == 'paper':\n",
        "            if robot_moves == 'rock':\n",
        "                man_score += 1\n",
        "            elif robot_moves == 'scissor':\n",
        "                robot_score += 1\n",
        "            elif robot_moves == 'paper':\n",
        "                pass\n",
        "        \n",
        "        elif man_moves == 'scissor':\n",
        "            if robot_moves == 'rock':\n",
        "                robot_score += 1\n",
        "            elif robot_moves == 'paper':\n",
        "                man_score += 1\n",
        "            elif robot_moves == 'scissor':\n",
        "                pass\n",
        "\n",
        "    if man_score > robot_score:\n",
        "        return f\"Your Score: {man_score}\\nComputer's Score: {robot_score}\\nYou have won the game\"\n",
        "    elif man_score < robot_score:\n",
        "        return f\"Your Score : {man_score} \\nComputer's Score : {robot_score} \\nComputer have won the game\"\n",
        "    elif man_score == robot_score:\n",
        "        return f\"Your Score : {man_score} \\nComputer's Score : {robot_score} \\nThis is a Tie\"\n",
        "\n",
        "\n",
        "result = playRockPaperScissor(rounds = int(input()))\n",
        "print(result)"
      ]
    }
  ],
  "metadata": {
    "colab": {
      "provenance": []
    },
    "kernelspec": {
      "display_name": "Python 3",
      "name": "python3"
    },
    "language_info": {
      "name": "python"
    }
  },
  "nbformat": 4,
  "nbformat_minor": 0
}
