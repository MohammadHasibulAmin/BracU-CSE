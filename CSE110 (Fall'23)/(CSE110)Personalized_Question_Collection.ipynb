{
  "cells": [
    {
      "cell_type": "code",
      "execution_count": null,
      "metadata": {
        "id": "tY4dIHGKOSf9"
      },
      "outputs": [],
      "source": [
        "#print all the prime numbers from 1 to 15\n",
        "for num in range(2, 16):\n",
        "    prime = True\n",
        "    for i in range(2, num):\n",
        "        if num % i == 0:\n",
        "            prime = False\n",
        "            break\n",
        "    if prime:\n",
        "        print(num)"
      ]
    },
    {
      "cell_type": "code",
      "execution_count": null,
      "metadata": {
        "id": "2WErwcNoO_sp"
      },
      "outputs": [],
      "source": [
        "#print 18,-27,36,-45,54,-63\n",
        "start = 18\n",
        "\n",
        "while start<64:\n",
        "    if start%2==0:\n",
        "        print(start,end=\",\")\n",
        "    else:\n",
        "        #if start==63:\n",
        "          #print(start,end=\"\") #this is if you want to remove the comma at the end\n",
        "          #break\n",
        "        print(\"-\"+str(start),end=\",\") #print(start*-1,end=\",\")\n",
        "    start += 9\n",
        "print(\"\\nthe loop has ended\")"
      ]
    },
    {
      "cell_type": "code",
      "execution_count": null,
      "metadata": {
        "id": "mktmazMcPXgp"
      },
      "outputs": [],
      "source": [
        "# Write a python code of a program that adds all the numbers\n",
        "# that are multiple of either 7 or 9 but not both, up to 600(including 600)\n",
        "\n",
        "sum=0\n",
        "\n",
        "for i in range(1,601):\n",
        "    if (i%7==0 and i%9!=0) or (i%9==0 and i%7!=0):\n",
        "        sum +=i\n",
        "print(sum)"
      ]
    },
    {
      "cell_type": "code",
      "execution_count": 2,
      "metadata": {
        "id": "K5M8uAbVUehI"
      },
      "outputs": [
        {
          "name": "stdout",
          "output_type": "stream",
          "text": [
            "20\n"
          ]
        }
      ],
      "source": [
        "#Write a python code of a program that wil calculate the value of y if the\n",
        "#expression of y is as follows (n is the input) :\n",
        "#y = 1square + 2square +...+ nsquare\n",
        "\n",
        "n = int(input(\"input the range for the value of y : \"))\n",
        "y = 0\n",
        "\n",
        "for i in range(1,n+1):\n",
        "     y += i*i\n",
        "\n",
        "print(y)"
      ]
    },
    {
      "cell_type": "code",
      "execution_count": null,
      "metadata": {
        "id": "1nEgX3ThbWbQ"
      },
      "outputs": [],
      "source": [
        "#Write a python code of a program that wil calculate the value of y if the\n",
        "#expression of y is as follows (n is the input) :\n",
        "#y = 1square - 2square + 3square - 4square +....+nsquare\n",
        "\n",
        "n = int(input(\"input the range for the value of y : \"))\n",
        "y = 0\n",
        "for i in range(1,n+1):\n",
        "    if i%2==0:\n",
        "        y -= i*i\n",
        "    else:\n",
        "        y += i*i\n",
        "print(y)\n"
      ]
    },
    {
      "cell_type": "code",
      "execution_count": null,
      "metadata": {
        "id": "PrULrl_4biIC"
      },
      "outputs": [],
      "source": [
        "# Write a python of a program that asks the user\n",
        "# to enter ten numbers then display the total and\n",
        "# average of those ten numbers\n",
        "\n",
        "sum = 0\n",
        "average = 0\n",
        "counter = 0\n",
        "\n",
        "for i in range(1,11):\n",
        "    n = int(input(\"enter 10 desired values : \"))\n",
        "    sum += n\n",
        "    counter += 1 #How many numbers I took as input\n",
        "average = sum/counter\n",
        "print(\"total sum of the 10 values are : \",sum)\n",
        "print(\"average of the 10 values are : \",average)"
      ]
    },
    {
      "cell_type": "code",
      "execution_count": null,
      "metadata": {
        "id": "WYi3jL7Seqkw"
      },
      "outputs": [],
      "source": [
        "#take an input , and print the input's every single value individually\n",
        "#Example : 'USER' ----> U,S,E,R (remember to remove the comma after R)\n",
        "\n",
        "user = input(\"please enter your desired value : \")\n",
        "print(\"you have entered\",user)\n",
        "\n",
        "length = len(user)\n",
        "\n",
        "for i in range(0,length):\n",
        "    if 0 <= i < length:\n",
        "        print(user[i], end=\",\")\n",
        "        if i==length:\n",
        "            print(user[i], end=\"\")"
      ]
    },
    {
      "cell_type": "code",
      "execution_count": null,
      "metadata": {
        "id": "qjOqAN-_LRI0"
      },
      "outputs": [],
      "source": [
        "#for counting number of digits for an INTEGAR value, we use x//10 until x = 0\n",
        "#and for showing it as output we use x%10 until x = 0\n",
        "#(gives us the remainder each time, remainder  is the output value for each number)\n",
        "\n",
        "user = int(input(\"please enter your desired value : \"))\n",
        "backup = user\n",
        "precounting = 0\n",
        "\n",
        "while backup>0:\n",
        "    backup = backup//10\n",
        "    precounting += 1\n",
        "\n",
        "print(\"total number of digits is :\",precounting)\n",
        "\n",
        "postcounting = 0\n",
        "postcounting = precounting-1\n",
        "\n",
        "while user>0:\n",
        "    number = user//(10**postcounting)\n",
        "    print(\"the number is\",number)\n",
        "    user = user%(10**postcounting)\n",
        "    print(\"the current situation is:\",user)\n",
        "    postcounting -= 1"
      ]
    },
    {
      "cell_type": "code",
      "execution_count": null,
      "metadata": {
        "id": "bWvng81ARGYt"
      },
      "outputs": [],
      "source": [
        "#Pattern Problem : Pyramid with 7-Base\n",
        "\n",
        "row = int(input(\"enter the number of rows : \"))\n",
        "\n",
        "for row_count in range(1,row+1):\n",
        "    for space_count in range(1,(row-row_count)+1):\n",
        "        print(\" \",end= \"\")\n",
        "\n",
        "    for number_count in range(1,2*row_count):\n",
        "        print(\"*\",end= \"\")\n",
        "\n",
        "    print()"
      ]
    },
    {
      "cell_type": "code",
      "execution_count": null,
      "metadata": {
        "id": "0bV-PfwRunm_"
      },
      "outputs": [],
      "source": [
        "#Write a python program that takes a number and tells\n",
        "#if it's a perfect number or not\n",
        "\n",
        "n = int(input(\"enter any value : \"))\n",
        "\n",
        "sum = 0\n",
        "\n",
        "for i in range(1,n): #the range is specifically \"n\" because,to be a perfect number\n",
        "    if n%i==0:       # WE MUST EXCLUDE THE NUMBER ITSELF\n",
        "        sum += i\n",
        "if sum == n:\n",
        "    print(f\"{n} is a perfect number\")\n",
        "else:\n",
        "    print(f\"{n} is not a perfect number\")"
      ]
    },
    {
      "cell_type": "code",
      "execution_count": null,
      "metadata": {
        "id": "HteNIVxQ8LbE"
      },
      "outputs": [],
      "source": [
        "#Write a python program that takes a number and tells\n",
        "#if it's a prime number or not\n",
        "\n",
        "n = int(input(\"enter any number : \"))\n",
        "divisor = 0\n",
        "\n",
        "for i in range(1,n+1):\n",
        "    if n<2:\n",
        "        print(\"not a prime number\")\n",
        "    elif n%i==0:\n",
        "        divisor += 1\n",
        "if divisor == 2:\n",
        "    print(n,\"is a prime number\")\n",
        "else:\n",
        "    print(n,\"is not a prime number\")"
      ]
    },
    {
      "cell_type": "code",
      "execution_count": null,
      "metadata": {
        "id": "KrRl_3hL3cEl"
      },
      "outputs": [],
      "source": [
        "#Write a python program that tells\n",
        "#if (range,range) is prime number or not\n",
        "\n",
        "n = int(input(\"enter the range of numbers you want to find prime: \"))\n",
        "prime = \"\"\n",
        "non_prime = \"\"\n",
        "\n",
        "for n in range(1,n+1):\n",
        "    divisor = 0\n",
        "\n",
        "    if n < 2:\n",
        "        pass\n",
        "    else:\n",
        "        for i in range(1,n+1):\n",
        "            if n % i == 0:\n",
        "                divisor += 1\n",
        "\n",
        "        if divisor == 2:\n",
        "            prime += str(n) + \",\"\n",
        "        else:\n",
        "            non_prime += str(n) + \",\"\n",
        "print(\"prime:\",prime)\n",
        "print(\"not prime:\",non_prime)\n",
        "\n",
        "#this entire hassle for removing the ending comma in the output :))\n",
        "'''\n",
        "n = int(input(\"Enter the range of numbers you want to find prime: \"))\n",
        "prime = \"\"\n",
        "non_prime = \"\"\n",
        "\n",
        "\n",
        "for num in range(1, n + 1):\n",
        "    divisor = 0\n",
        "\n",
        "    if num < 2:\n",
        "        pass\n",
        "    else:\n",
        "        for i in range(1, num + 1):\n",
        "            if num % i == 0:\n",
        "                divisor += 1\n",
        "\n",
        "        if divisor == 2:\n",
        "            prime += str(num)\n",
        "            if num != n:\n",
        "                prime += \",\"\n",
        "        else:\n",
        "            non_prime += str(num)\n",
        "            if num != n:\n",
        "                non_prime += \",\"\n",
        "\n",
        "print(\"Prime:\", prime)\n",
        "print(\"Not Prime:\",non_prime)\n",
        "'''\n"
      ]
    },
    {
      "cell_type": "code",
      "execution_count": null,
      "metadata": {
        "id": "sOEBH3uL8L-u"
      },
      "outputs": [],
      "source": [
        "#Write a python program that takes some number and tells\n",
        "#which one is the maximum, and the minimum\n",
        "\n",
        "user = int(input(\"enter your first number : \"))\n",
        "\n",
        "max = user\n",
        "min = user\n",
        "\n",
        "for i in range(1,5):\n",
        "    user= int(input(\"enter your other number : \"))\n",
        "    if user>max:\n",
        "        max = user\n",
        "    elif user<min:\n",
        "        min = user\n",
        "print(\"the maximum number is\",max)\n",
        "print(\"the minimum number is\",min)\n",
        "\n"
      ]
    },
    {
      "cell_type": "code",
      "execution_count": null,
      "metadata": {
        "id": "XJoMrvvnqf_h"
      },
      "outputs": [],
      "source": [
        "#Write a function that print the max of 3 numbers\n",
        "#return marks the end of a function (very important info)\n",
        "\n",
        "def maxfinder():\n",
        "    user_x = int(input(\"value : \"))\n",
        "    max = user_x\n",
        "    min = user_x\n",
        "    for i in range(1,3):\n",
        "        user_x = int(input(\"value : \"))\n",
        "        if user_x > max:\n",
        "            max = user_x\n",
        "        elif user_x < min:\n",
        "            min = user_x\n",
        "    return max,min\n",
        "\n",
        "max_result, min_result = maxfinder()\n",
        "print(\"max value : \",max_result)\n",
        "print(\"min value : \",min_result)\n"
      ]
    },
    {
      "cell_type": "code",
      "execution_count": null,
      "metadata": {
        "id": "gIDOq5ok_Z1E"
      },
      "outputs": [],
      "source": [
        "#Write a python program that prints a right angle triangle\n",
        "\n",
        "row = int(input(\"enter the number of rows : \"))\n",
        "\n",
        "for row_count in range(1,row+1):\n",
        "    for column_count in range(1,row_count+1):\n",
        "        print(column_count,end=\"\")\n",
        "    print()"
      ]
    },
    {
      "cell_type": "code",
      "execution_count": null,
      "metadata": {
        "id": "3iaRUC8xsh8v"
      },
      "outputs": [],
      "source": [
        "#write a python program that takes a string input and prints out each letter/number individually\n",
        "#don't forget to remove the last comma\n",
        "\n",
        "x = input(\"Enter any string: \")\n",
        "y = len(x)\n",
        "\n",
        "for i in range(y):\n",
        "    if i == y - 1:\n",
        "        print(x[i], end=\"\")\n",
        "    else:\n",
        "        print(x[i], end=\",\")\n"
      ]
    },
    {
      "cell_type": "code",
      "execution_count": null,
      "metadata": {
        "id": "jvL8ubJcHIuj"
      },
      "outputs": [],
      "source": [
        "#Write a python program thattakes a nmber as input from the user\n",
        "#and prints the divisors of that number as well as\n",
        "#how many divisors the number has\n",
        "\n",
        "n = int(input(\"enter any value : \"))\n",
        "\n",
        "divisor = 0\n",
        "\n",
        "for i in range(1,n+1):\n",
        "    if n%i==0:\n",
        "        if i==n:            #\n",
        "            print(i,end=\"\") #this line is written to remove the commma after the end result\n",
        "            break           #\n",
        "        divisor += 1\n",
        "        print(i,end=\",\")\n",
        "print(f\"\\nTotal {divisor} divisors\")\n"
      ]
    },
    {
      "cell_type": "code",
      "execution_count": null,
      "metadata": {
        "id": "XzRdBfhM5Wxa"
      },
      "outputs": [],
      "source": [
        "#write a Python program that takes a string input\n",
        "#and print each word/number individually\n",
        "#used the if/else for removing the comma after the final output\n",
        "\n",
        "x = input(\"Enter any string: \")\n",
        "y = len(x)\n",
        "\n",
        "#for i in range(0,y):\n",
        "#    print(x[i],end=\",\")   RAW print , has comma in the end\n",
        "\n",
        "for i in range(y):\n",
        "    if i == y - 1:\n",
        "        print(x[i], end=\"\") #did that for removing the comma after final output\n",
        "    else:\n",
        "        print(x[i], end=\",\")"
      ]
    },
    {
      "cell_type": "code",
      "execution_count": null,
      "metadata": {
        "id": "91xe4av3i_Vv"
      },
      "outputs": [],
      "source": [
        "#Make Stronger ---> Strongest\n",
        "\n",
        "#print(x[(y-2):y]) will always print me the last two characters\n",
        "\n",
        "x = input(\"Enter any string that has 'er' in the end : \")\n",
        "y = len(x)\n",
        "\n",
        "if x[(y-2):y] == 'er':\n",
        "    print(\"yes\")\n",
        "    x = x[0:(y-2)] + \"est\"\n",
        "    print(x)\n",
        "else:\n",
        "    print(\"not the proper ending\")"
      ]
    },
    {
      "cell_type": "code",
      "execution_count": null,
      "metadata": {
        "id": "EK7bIaiVnwte"
      },
      "outputs": [],
      "source": [
        "#write a python program that takes an input and\n",
        "#prints it's ascii value for each character\n",
        "\n",
        "x = input(\"type any word : \")\n",
        "\n",
        "for i in x:\n",
        "    ascii = ord(i)\n",
        "    print(i,\":\",ascii)\n"
      ]
    },
    {
      "cell_type": "code",
      "execution_count": null,
      "metadata": {
        "id": "mWZ3C0D9oxJq"
      },
      "outputs": [],
      "source": [
        "# x = \"hunger\"\n",
        "\n",
        "# for i in x:\n",
        "#   print(i)\n",
        "\n",
        "# This Python code is using a for loop to iterate through each character in the string \"hunger,\" and during each iteration, the variable i takes on the value of the current character.\n",
        "\n",
        "# Here's a breakdown:\n",
        "\n",
        "# x = \"hunger\": This line initializes a string variable x with the value \"hunger.\"\n",
        "\n",
        "# for i in x:: This line starts a for loop, where the variable i is used to represent each character in the string x during each iteration.\n",
        "\n",
        "# Any code you write after this line and with an indentation will be executed for each character in the string.\n",
        "\n",
        "# For example, for writing print(i), the output will be:\n",
        "# h\n",
        "# u\n",
        "# n\n",
        "# g\n",
        "# e\n",
        "# r\n",
        "\n"
      ]
    },
    {
      "cell_type": "code",
      "execution_count": null,
      "metadata": {
        "id": "Lrb7ecy5o0JS"
      },
      "outputs": [],
      "source": [
        "#Write a python program that outputs the following:\n",
        "'''\n",
        "$$$$$$$$\n",
        "RROOOORR\n",
        "RROOOORR\n",
        "RROOOORR\n",
        "RROOOORR\n",
        "RROOOORR\n",
        "RROOOORR\n",
        "RROOOORR\n",
        "'''\n",
        "\n",
        "row = int(input(\"enter a number : \"))\n",
        "\n",
        "for i in range(1,row+1):\n",
        "    for j in range(1,row+1):\n",
        "        if i ==1:\n",
        "            print(\"$\",end=\"\")\n",
        "        else:\n",
        "            if j==1 or j==2 or j==7 or j==8:\n",
        "                print(\"R\",end=\"\")\n",
        "            else:\n",
        "                print(\"O\",end=\"\")\n",
        "    print()"
      ]
    },
    {
      "cell_type": "code",
      "execution_count": null,
      "metadata": {
        "id": "MSxtXgAu_yex"
      },
      "outputs": [],
      "source": [
        "#Write a python program that converts Binary to Decimal\n",
        "#the equation for converting to binary to decimal is, example : 1101\n",
        "#(2^3 * 1) + (2^2 * 1) + (2^1 * 1) + (2^0 * 1) = 8 + 4 + 0 + 1 = 13\n",
        "n = int(input(\"input a binary number : \"))\n",
        "sum = 0\n",
        "power = 0\n",
        "\n",
        "while n>0:\n",
        "    finisher = n%10\n",
        "    n = n//10\n",
        "    sum += ((2**power)*finisher)\n",
        "    power += 1\n",
        "print(sum)"
      ]
    },
    {
      "cell_type": "code",
      "execution_count": null,
      "metadata": {
        "id": "qNbTIHWBK9QT"
      },
      "outputs": [],
      "source": [
        "#Write a python program that detects if the user input\n",
        "#is a integar data/string data/mixed data\n",
        "#use ascii table to determine whether integar or not\n",
        "\n",
        "user = input(\"type literally anything : \")\n",
        "digit_counter = 0\n",
        "letter_counter = 0\n",
        "y = len(user)\n",
        "\n",
        "for i in range(0,y):\n",
        "    if ord(user[i])>=48 and ord(user[i])<=57:\n",
        "        digit_counter += 1\n",
        "    else:\n",
        "        letter_counter += 1\n",
        "\n",
        "if digit_counter == 0:\n",
        "    print(\"this is an string data\")\n",
        "elif letter_counter == 0:\n",
        "    print(\"this is an integar data\")\n",
        "else:\n",
        "    print(\"this is a mixed data\")"
      ]
    },
    {
      "cell_type": "code",
      "execution_count": null,
      "metadata": {
        "id": "pkPPbNP1m9LX"
      },
      "outputs": [],
      "source": [
        "#write a python program that removes duplicates for an input\n",
        "\n",
        "user = (input(\"type anything : \"))\n",
        "y = len(user)\n",
        "final_word = user[0]\n",
        "\n",
        "for i in range(1,y):\n",
        "    if user[i-1] != user[i]:\n",
        "        final_word = final_word+user[i]\n",
        "print(final_word)\n",
        "\n",
        "#we don't start the range with 0 becuase:\n",
        "#The loop is comparing user[i-1] with user[i],\n",
        "#and when i is 0, user[i-1] becomes user[-1], which actually refers to the last character of the string.\n",
        "#To fix this issue, you can start the loop from 1 and\n",
        "#initialize final_word with the first character of the string\n",
        "#This way, you avoid comparing the first character with a\n",
        "#non-existent previous character, and it should work as expected."
      ]
    },
    {
      "cell_type": "code",
      "execution_count": null,
      "metadata": {
        "id": "BIa9PTz3nBAY"
      },
      "outputs": [],
      "source": [
        "#Write a python program that takes 2 input from the user\n",
        "#where the first input is a string with length greater than 1,\n",
        "#The second input is the index of the first given string where\n",
        "#you have to start reversing\n",
        "#Then print the new string back to the user\n",
        "\n",
        "#user = input(\"type any string : \")\n",
        "#index = int(input(\"enter the value of the index : \"))\n",
        "\n",
        "#start = len(user)*-(1)+index\n",
        "#end = len(user)*(-1)-1\n",
        "\n",
        "#print(user[start:end:-1])\n",
        "\n",
        "#user = input(\"type any string : \")\n",
        "#index = int(input(\"enter the value of the index : \"))\n",
        "#quantity = len(user)\n",
        "\n",
        "#for i in range(index,-1,-1):\n",
        "#  print(user[i],end=\"\")\n",
        "#for j in range(index+1,quantity):\n",
        "#  print(user[i],end=\"\")\n",
        "\n",
        "user = input(\"type something : \")\n",
        "removal = input(\"enter the symbal you want to remove : \")\n",
        "\n",
        "for i in range(0,len(user)):\n",
        "    if user[i] == removal:\n",
        "        print()\n",
        "    else:\n",
        "       print(user[i],end=\"\")\n"
      ]
    },
    {
      "cell_type": "code",
      "execution_count": null,
      "metadata": {
        "id": "pVHCiC43Zdif"
      },
      "outputs": [],
      "source": [
        "#Write a python program that removes a certain symbol from a string\n",
        "#take two inputs : one for the string, the other fro the symbol neeed to be removed\n",
        "user = input(\"type something : \")\n",
        "removal = input(\"enter the symbal you want to remove : \")\n",
        "output = ''\n",
        "\n",
        "for i in user:\n",
        "    if i == removal:\n",
        "        output = output+'\\n'\n",
        "    else:\n",
        "        output += i\n",
        "print(output)\n",
        "\n",
        "\n",
        "#user = input(\"\")\n",
        "#split = ord(input())\n",
        "\n",
        "#for i in range(len(user)):\n",
        "#  if ord(user[i]) == split:\n",
        "#    print(\"\")\n",
        "#  else:\n",
        "#    print(user[i],end=\"\")"
      ]
    },
    {
      "cell_type": "code",
      "execution_count": null,
      "metadata": {},
      "outputs": [],
      "source": [
        "#Summer_2022_Mid/Fall_2023_Section4_Final\n",
        "#A1b dC @  3 $\n",
        "\n",
        "user = input()\n",
        "\n",
        "upper = \"\"\n",
        "lower = \"\"\n",
        "digit = \"\"\n",
        "special = \"\"\n",
        "new_word = \"\"\n",
        "\n",
        "for i in user:\n",
        "  if 47 < ord(i) < 58:\n",
        "    digit += i\n",
        "  elif 64 < ord(i) < 91:\n",
        "    upper += i\n",
        "  elif 96 < ord(i) < 123:\n",
        "    lower += i\n",
        "  elif ord(i) == 32:\n",
        "    pass\n",
        "  else:\n",
        "    special += i\n",
        "\n",
        "for j in range(len(upper)):\n",
        "  new_word +=upper[j]+lower[j]+digit[j]+special[j]\n",
        "\n",
        "print(\"Upper-Case :\",upper)\n",
        "print(\"Lower-Case :\",lower)\n",
        "print(\"Digits :\",digit)\n",
        "print(\"Special :\",special)\n",
        "print(\"New-Word :\",new_word)"
      ]
    },
    {
      "cell_type": "code",
      "execution_count": null,
      "metadata": {
        "id": "J373MKxFDrwG"
      },
      "outputs": [],
      "source": [
        "#flag ki jinish, note by cheesy\n",
        "\n",
        "user = \"abcdefg\" #user variable e 'a' ase naki eta ber kora tomar kaj\n",
        "\n",
        "found = False\n",
        "\n",
        "for i in user:\n",
        "   if i == \"a\":\n",
        "      found = True\n",
        "\n",
        "if found == True:\n",
        "   print(\"letter a found\")\n",
        "else:\n",
        "   print(\"there is no a\")\n"
      ]
    },
    {
      "cell_type": "code",
      "execution_count": 2,
      "metadata": {},
      "outputs": [
        {
          "name": "stdout",
          "output_type": "stream",
          "text": [
            "108.46\n"
          ]
        }
      ],
      "source": [
        "#Fall'23 Mid\n",
        "\n",
        "user = \"mach 16.34$ bhaat 23.43$ alu 68.69$\"\n",
        "new_str = \"\"\n",
        "sum = 0\n",
        "digits = \"0123456789\"\n",
        "\n",
        "for i in user:\n",
        "    if i in digits or i == \".\":\n",
        "          new_str += i\n",
        "    elif i == \"$\":\n",
        "        sum += float(new_str)\n",
        "        new_str = \"\"\n",
        "print(sum)"
      ]
    },
    {
      "cell_type": "markdown",
      "metadata": {},
      "source": [
        "AFTER MID "
      ]
    },
    {
      "cell_type": "markdown",
      "metadata": {},
      "source": [
        "Functions"
      ]
    },
    {
      "cell_type": "code",
      "execution_count": null,
      "metadata": {
        "id": "DRGx4q4MfEcv"
      },
      "outputs": [],
      "source": [
        "#write a function that checks if a number is even or not\n",
        "def evenchecker():\n",
        "    user_x = int(input(\"type any value : \"))\n",
        "    if user_x%2==0:\n",
        "        even = True\n",
        "    else:\n",
        "        even = False\n",
        "    return even\n",
        "even = evenchecker()\n",
        "print(\"even : \",even)"
      ]
    },
    {
      "cell_type": "code",
      "execution_count": null,
      "metadata": {
        "id": "hkLDledVizBe"
      },
      "outputs": [],
      "source": [
        "#Write a function that takes student ID and prints the year and semester\n",
        "\n",
        "def get_year_semester(student_id):\n",
        "    year = int(str(student_id)[:2])\n",
        "    semester_digit = int(str(student_id)[2])\n",
        "\n",
        "    if semester_digit == 0:\n",
        "        semester = \"Spring\"\n",
        "    elif semester_digit == 1:\n",
        "        semester = \"Summer\"\n",
        "    elif semester_digit == 2:\n",
        "        semester = \"Fall\"\n",
        "    else:\n",
        "        return \"Invalid semester digit\"\n",
        "\n",
        "    return f\"{semester} {year}\"\n",
        "\n",
        "\n",
        "student_id = input(\"\")\n",
        "result = get_year_semester(student_id)\n",
        "print(result)\n"
      ]
    },
    {
      "cell_type": "code",
      "execution_count": null,
      "metadata": {
        "id": "MmfJm5EqE8lE"
      },
      "outputs": [],
      "source": [
        "#Write a function that will return True if a given string's first two and last two characters are\n",
        "#in upper case and otherwise return False. You have to show the output by printing the returned value.\n",
        "#ASCII range : 65-90\n",
        "\n",
        "def detect(n):\n",
        "    detector = False\n",
        "\n",
        "    for i in range(2):\n",
        "        if 65 <= ord(n[i]) <= 90:\n",
        "            detector = True\n",
        "\n",
        "    for i in range(len(n)-2,len(n)):\n",
        "        if 65 <= ord(n[i]) <= 90:\n",
        "            detector = True\n",
        "\n",
        "    return detector\n",
        "\n",
        "user = input(\"Type any word: \")\n",
        "print('\"'+user+'\"',\"has uppercase in first two words and last words or not : \",detect(user))\n"
      ]
    },
    {
      "cell_type": "markdown",
      "metadata": {},
      "source": [
        "LIST Practice and Problems"
      ]
    },
    {
      "cell_type": "code",
      "execution_count": null,
      "metadata": {},
      "outputs": [],
      "source": [
        "#adding to list without append\n",
        "list1 = []\n",
        "for i in range(5):\n",
        "    temp = int(input(\"type a number\"))\n",
        "    #list.append(temp)\n",
        "    list1 += [temp]\n",
        "print(list1)"
      ]
    },
    {
      "cell_type": "markdown",
      "metadata": {},
      "source": [
        "Quiz-3 (Based on List) (05-Dec-2023)"
      ]
    },
    {
      "cell_type": "code",
      "execution_count": null,
      "metadata": {},
      "outputs": [],
      "source": [
        "#Quiz3_Set_L\n",
        "\n",
        "def highestScorer(name, score_list):\n",
        "    score_index = 0\n",
        "    player = \"\"\n",
        "    highest_score = 0\n",
        "\n",
        "    for i in range(len(score_list)):\n",
        "        if score_list[i] > highest_score:\n",
        "            highest_score = score_list[i]\n",
        "            score_index = i\n",
        "\n",
        "    print(f\"Highest Scorer is {name[score_index]} who scored {score_list[score_index]}\")\n",
        "list1 = [\"Rohit\", \"Mitchell\", \"Maxwell\", \"Dawid\"]\n",
        "list2 = [131, 177, 201, 140]\n",
        "\n",
        "highestScorer(list1, list2)"
      ]
    },
    {
      "cell_type": "code",
      "execution_count": 1,
      "metadata": {},
      "outputs": [
        {
          "name": "stdout",
          "output_type": "stream",
          "text": [
            "['Clark Kent, Bruce Wayne, Diana Prince, Barry Allen']\n"
          ]
        }
      ],
      "source": [
        "user = \"Clark Kent, Bruce Wayne, Diana Prince, Barry Allen\" #create a list\n",
        "list1 = []\n",
        "new_str = \"\"\n",
        "for i in range(len(user)):\n",
        "    if user[i] == \", \":\n",
        "        list1.append(new_str)\n",
        "        new_str = \"\"\n",
        "    elif i == len(user)-1:\n",
        "        new_str += user[i]\n",
        "        list1.append(new_str)\n",
        "    else:\n",
        "        new_str += user[i]\n",
        "print(list1)"
      ]
    },
    {
      "cell_type": "code",
      "execution_count": null,
      "metadata": {},
      "outputs": [],
      "source": [
        "#Figure out the minimum value and that index of a given list\n",
        "\n",
        "list1 = [69,5,7,9,11,16,2]\n",
        "min_value = list1[0]\n",
        "idx = 0\n",
        "for i in range(len(list1)):\n",
        "    if list1[i] < min_value:\n",
        "        min_value = list1[i]\n",
        "        idx = i\n",
        "    else:\n",
        "        pass\n",
        "print(f\"{min_value} is the minimum value and it's index is {i}\")"
      ]
    },
    {
      "cell_type": "code",
      "execution_count": null,
      "metadata": {},
      "outputs": [],
      "source": [
        "#Problem 1: write a program that takes students name as input \n",
        "#and keep adding them in a list until the user enters STOP. \n",
        "#Then the program should print each student name in a separate line.\n",
        "\n",
        "students = []\n",
        "\n",
        "while True:\n",
        "    student_name = input(\"Enter student name (or STOP/stop to end): \")\n",
        "    \n",
        "    if student_name == 'STOP' or student_name == 'stop':\n",
        "        break\n",
        "    \n",
        "    students.append(student_name)\n",
        "\n",
        "print(\"List of students:\")\n",
        "for student in students:\n",
        "    print(student)\n"
      ]
    },
    {
      "cell_type": "code",
      "execution_count": null,
      "metadata": {},
      "outputs": [],
      "source": [
        "# Problem 2: write a function that takes a given list as an argument \n",
        "# and returns the first element of the list that is of string type.\n",
        "\n",
        "def founder(n):\n",
        "    for i in n:\n",
        "        if type(i) == str:\n",
        "            print(\"string found\")\n",
        "            return i\n",
        "founder([1, 2, 3, 4, 'j'])"
      ]
    },
    {
      "cell_type": "code",
      "execution_count": null,
      "metadata": {},
      "outputs": [],
      "source": [
        "# Problem 3: suppose we have a list as input that may have other lists inside it. \n",
        "# What we want is to copy the elements from inside list to the outside list directly.\n",
        "\n",
        "# Example:\n",
        "\n",
        "# Input: [2, [3, 4], 5, [\"Merry\", \"John\"]]\n",
        "\n",
        "# Output: [2, 3, 4, 5, \"Merry\", \"John\"]\n",
        "\n",
        "given = [2, [3, 4, 6], 5, [\"Merry\", \"John\"], \"Peter\"]\n",
        "output_list = []\n",
        "for i in range(len(given)):\n",
        "  if type(given[i]) == list:\n",
        "    for j in range(len(given[i])):\n",
        "      output_list.append(given[i][j])\n",
        "  else:\n",
        "    output_list.append(given[i])\n",
        "print(output_list)"
      ]
    },
    {
      "cell_type": "markdown",
      "metadata": {},
      "source": [
        "Problem 4 doesn't exist"
      ]
    },
    {
      "cell_type": "code",
      "execution_count": 19,
      "metadata": {},
      "outputs": [
        {
          "name": "stdout",
          "output_type": "stream",
          "text": [
            "['1', '2', '3', '1', '1', '3', '5', '5']\n",
            "['1', '2', '3', '1', '1', '3', '5', '5']\n"
          ]
        }
      ],
      "source": [
        "# Problem 5: given a string as input that has digits \n",
        "# and other things, pick all the digits in a list \n",
        "# and ignore all other characters from the string. Then print the digits.\n",
        "\n",
        "#with using in range\n",
        "user = 'abcd1231asd1g355s'\n",
        "digit_list = []\n",
        "\n",
        "for i in range(len(user)):\n",
        "    if 48 <= ord(user[i]) <=57:\n",
        "        digit_list += user[i]\n",
        "    else:\n",
        "        pass\n",
        "print(digit_list)\n",
        "\n",
        "#without using in range\n",
        "user = 'abcd1231asd1g355s'\n",
        "digit_list = []\n",
        "\n",
        "for i in user:\n",
        "    if 48 <= ord(i) <=57:\n",
        "        digit_list += i\n",
        "    else:\n",
        "        pass\n",
        "print(digit_list)"
      ]
    },
    {
      "cell_type": "code",
      "execution_count": 25,
      "metadata": {},
      "outputs": [
        {
          "name": "stdout",
          "output_type": "stream",
          "text": [
            "[8, 7, 6, 5, 4, 3, 2, 1]\n"
          ]
        }
      ],
      "source": [
        "#Problem 6: Given a list as input, return another list that has the elements of the input list in reverse order. [Both slicing and loop]\n",
        "\n",
        "#Slice\n",
        "# def reverse_list_slicing(input_list):\n",
        "#     return input_list[::-1]\n",
        "\n",
        "#Loop\n",
        "\n",
        "input_list = [1,2,3,4,5,6,7,8]\n",
        "reversed_list = []\n",
        "\n",
        "for i in range(len(input_list)-1,-1,-1):\n",
        "    reversed_list += [input_list[i]]\n",
        "print(reversed_list)\n",
        "\n",
        "\n"
      ]
    },
    {
      "cell_type": "code",
      "execution_count": 29,
      "metadata": {},
      "outputs": [
        {
          "name": "stdout",
          "output_type": "stream",
          "text": [
            "['Merry', 'Merry', 'John', 'Rudra', 'Rudra', 'Rudra']\n"
          ]
        }
      ],
      "source": [
        "# Problem 7: Given a list as input that one string followed by a number in pairwise fashion, \n",
        "#create another list where the string repeats that number of times.\n",
        "\n",
        "# Example:\n",
        "\n",
        "# input: [\"Merry\", 2, \"John\", 1, \"Rudra\", 3]\n",
        "\n",
        "# output [\"Merry\", \"Merry\", \"John\", \"Rudra\", \"Rudra\", \"Rudra\"]\n",
        "\n",
        "def pairwise(n):\n",
        "    output_lst = []\n",
        "    for i in range(len(n)):\n",
        "        if type(n[i]) == str:\n",
        "            for j in range(n[i+1]):\n",
        "                output_lst.append(n[i])\n",
        "    return output_lst\n",
        "\n",
        "print(pairwise([\"Merry\", 2, \"John\", 1, \"Rudra\", 3]))"
      ]
    },
    {
      "cell_type": "code",
      "execution_count": 19,
      "metadata": {},
      "outputs": [
        {
          "name": "stdout",
          "output_type": "stream",
          "text": [
            "[2, 3, 5, 7, 11, 13, 17, 19, 23, 29, 31, 37, 41, 43, 47, 53, 59, 61, 67, 71, 73, 79, 83, 89, 97]\n"
          ]
        }
      ],
      "source": [
        "#Problem 8: write a program to return all prime numbers that are smaller than 100 in a list\n",
        "prime_list = []\n",
        "\n",
        "def isprime(n):\n",
        "    counter = 0\n",
        "    if n<2:\n",
        "        return False\n",
        "    for i in range(1,n+1):\n",
        "        if n%i==0:\n",
        "            counter += 1\n",
        "        else:\n",
        "            pass\n",
        "    if counter == 2:\n",
        "        return True\n",
        "    else:\n",
        "        return False\n",
        "\n",
        "for i in range(2,101):\n",
        "    if isprime(i) == True:\n",
        "        prime_list.append(i)\n",
        "    else:\n",
        "        pass\n",
        "print(prime_list)"
      ]
    },
    {
      "cell_type": "code",
      "execution_count": 2,
      "metadata": {},
      "outputs": [
        {
          "name": "stdout",
          "output_type": "stream",
          "text": [
            "['deR', 'neerG', 'eulB', 'etihW', 'kcalB']\n",
            "['deR', 'neerG', 'eulB', 'etihW', 'kcalB']\n"
          ]
        }
      ],
      "source": [
        "# Problem 9 : Write a Python program to reverse strings in a given list of string values without using reverse() or reversed() or slicing.\n",
        "\n",
        "# Given List: ['Red','Green','Blue','White','Black']\n",
        "\n",
        "# Sample Output: ['deR', 'neerG', 'eulB', 'etihW', 'kcalB']\n",
        "\n",
        "#without using in range\n",
        "def reversal(n):\n",
        "    reversed_strings = []\n",
        "\n",
        "    for string in n:\n",
        "        reversed_str = \"\"\n",
        "        \n",
        "        for char in string[::-1]:\n",
        "            reversed_str += char\n",
        "        reversed_strings.append(reversed_str)\n",
        "\n",
        "    return reversed_strings\n",
        "\n",
        "print(reversal(['Red','Green','Blue','White','Black']))\n",
        "\n",
        "#with using in range\n",
        "def reversal(strings):\n",
        "    reversed_strings = []\n",
        "\n",
        "    # Iterate over the list of strings using range()\n",
        "    for i in range(len(strings)):\n",
        "        reversed_str = \"\"\n",
        "        \n",
        "        # Iterate over each string in reverse order using range()\n",
        "        for j in range(len(strings[i]) - 1, -1, -1):\n",
        "            reversed_str += strings[i][j]\n",
        "\n",
        "        reversed_strings.append(reversed_str)\n",
        "\n",
        "    return reversed_strings\n",
        "\n",
        "# Testing the function\n",
        "print(reversal(['Red', 'Green', 'Blue', 'White', 'Black']))\n",
        "\n"
      ]
    },
    {
      "cell_type": "code",
      "execution_count": null,
      "metadata": {},
      "outputs": [],
      "source": [
        "#From the given list, split it in such a way so that the summation of elements of one part \n",
        "#equals the summation of the elements of the other. You cannot rearrange the order of the given list\n",
        "#if such combination exists, print it. Otherwise print \"Not possible\"\n",
        "\n",
        "list1 = [1, 3, 5, 4, 2, 3]\n",
        "\n",
        "sum1 = 0\n",
        "\n",
        "for i in range(len(list1)):\n",
        "  sum1 += list1[i]\n",
        "\n",
        "if sum1 % 2 != 0: #can't split if there is no even sum \n",
        "  print(\"Not Possible\")\n",
        "\n",
        "else:\n",
        "    sumchecker = 0\n",
        "    for j in range(len(list1)):\n",
        "      sumchecker += list1[j]\n",
        "      \n",
        "      if sumchecker == sum1 // 2:\n",
        "        print(list1[:j+1],list1[j+1:])\n",
        "        break\n",
        "    else:\n",
        "      print(\"Not Possible\")\n",
        "\n",
        "list_1 = [1, 3, 5, 4, 2, 3]\n",
        "\n",
        "a = 0\n",
        "b = 0\n",
        "done = False\n",
        "\n",
        "#Alternate Way\n",
        "\n",
        "# Calculate the total sum of the list\n",
        "for value in list_1:\n",
        "    a += value\n",
        "\n",
        "# Iterate through the list to find the split point\n",
        "for index in range(len(list_1)):\n",
        "    b += list_1[index]\n",
        "    a -= list_1[index]\n",
        "\n",
        "    # Check if the sums of the two parts are equal\n",
        "    if b == a:\n",
        "        done = True\n",
        "        print(list_1[:index + 1], list_1[index + 1:])\n",
        "        break\n",
        "\n",
        "# If no split point was found, print \"Not Possible\"\n",
        "if not done:\n",
        "    print(\"Not Possible\")\n",
        "\n"
      ]
    },
    {
      "cell_type": "code",
      "execution_count": 2,
      "metadata": {},
      "outputs": [
        {
          "name": "stdout",
          "output_type": "stream",
          "text": [
            "['0', '0', '1', '2', '3', '4', '4', '5', '6', '6', '6', '7', '8', '9']\n",
            "['0', '1', '2', '3', '4', '5', '6', '7', '8', '9']\n"
          ]
        }
      ],
      "source": [
        "#convert a string to a list and then create a new list where you don't take the repititions\n",
        "user = \"0,0,1,2,3,4,4,5,6,6,6,7,8,9,4\"\n",
        "new_list = []\n",
        "new_str = \"\"\n",
        "r_list = []\n",
        "\n",
        "#for converting the string to list\n",
        "for i in range(len(user)):\n",
        "  if user[i] == \",\":\n",
        "    new_list.append(new_str)\n",
        "    new_str = \"\"\n",
        "  else:\n",
        "    new_str += user[i]\n",
        "print(new_list)\n",
        "\n",
        "#appending the values to a NEWER list avoiding repitions\n",
        "for i in range(len(new_list)):\n",
        "  if i == len(new_list)-1:\n",
        "    break\n",
        "  elif new_list[i] == new_list[i+1]:\n",
        "    pass\n",
        "  else:\n",
        "    r_list.append(int(new_list[i]))\n",
        "print(r_list)\n",
        "\n",
        "# # alternate way of appending(shown by tanvir)\n",
        "# r_list = []\n",
        "# for i in  new_list:\n",
        "#   if i in r_list:\n",
        "#     pass\n",
        "#   else:\n",
        "#     r_list.append(i)\n",
        "# print(r_list)"
      ]
    },
    {
      "cell_type": "code",
      "execution_count": 1,
      "metadata": {},
      "outputs": [],
      "source": [
        "#Bubble Sorting a List/Array\n",
        "\n",
        "array = [7,8,3,1,2]\n",
        "\n",
        "for i in range(len(array)):\n",
        "  for j in range(len(array)-i-1):\n",
        "    if array[j] > array[j+1]:\n",
        "       temp = array[j]\n",
        "       array[j] = array[j+1]\n",
        "       array[j+1] = temp\n",
        "print(array)\n",
        "\n",
        "import numpy as np\n",
        "\n",
        "array = np.array([7,8,3,1,2])\n",
        "\n",
        "for i in range(len(array)):\n",
        "  for j in range(len(array)-i-1):\n",
        "    if array[j] > array[j+1]:\n",
        "      temp = array[j]\n",
        "      array[j] = array[j+1]\n",
        "      array[j+1] = temp\n",
        "print(array)"
      ]
    },
    {
      "cell_type": "code",
      "execution_count": 1,
      "metadata": {},
      "outputs": [
        {
          "name": "stdout",
          "output_type": "stream",
          "text": [
            "[1, 2, 3, 7, 8]\n"
          ]
        }
      ],
      "source": [
        "#Selection Sorting A List/Array\n",
        "given = [7,8,3,1,2]\n",
        "\n",
        "for i in range(len(given) -1):\n",
        "  min1 = i\n",
        "  for j in range(i+1, len(given)):\n",
        "    if given[j] < given[min1]:\n",
        "                 min1 = j\n",
        "  given[i], given[min1] = given[min1], given[i]\n",
        "print(given)"
      ]
    },
    {
      "cell_type": "code",
      "execution_count": 4,
      "metadata": {},
      "outputs": [
        {
          "name": "stdout",
          "output_type": "stream",
          "text": [
            "[1, 2, 3, 7, 8]\n"
          ]
        }
      ],
      "source": [
        "#Insertion Sorting A List/Array\n",
        "lst = [7,8,3,1,2]\n",
        "\n",
        "for i in range(1, len(lst)): # The outer loop iterates through each element of the list, starting from the second element (index 1).\n",
        "\n",
        "    key = lst[i] # Store the current element in a variable called 'key'.\n",
        "    j = i - 1 # Initialize a variable 'j' to the index of the element before the current one.\n",
        "\n",
        "    while j >= 0 and key < lst[j]:\n",
        "    # This inner loop compares the 'key' with the elements before it, moving them one position ahead\n",
        "    # until the correct position for 'key' is found or until the beginning of the list is reached.\n",
        "    \n",
        "        lst[j + 1] = lst[j] # Shift the current element one position to the right.\n",
        "    \n",
        "        j -= 1 # Move to the previous element for the next comparison.\n",
        "    \n",
        "        lst[j + 1] = key # Place the 'key' in its correct sorted position.\n",
        "        \n",
        "print(lst)"
      ]
    },
    {
      "cell_type": "markdown",
      "metadata": {},
      "source": [
        "An Important String+List+Array based problem with a pinch of Function"
      ]
    },
    {
      "cell_type": "code",
      "execution_count": 2,
      "metadata": {},
      "outputs": [
        {
          "name": "stdout",
          "output_type": "stream",
          "text": [
            "even : [ 4  2 34 56 22 78]\n",
            "odd : [ 1  3  9 11 33]\n"
          ]
        }
      ],
      "source": [
        "#Write a python program that takes a list as user input line.\n",
        "#Then pass this list to the seperate_array() function. Then convert it to an array.\n",
        "#The main strength of this function is it seperates the array into arrays of even and odd.\n",
        "#Finally,return and print these two arrays\n",
        "\n",
        "def seperate_array(a_list):\n",
        "  new_str = \"\"\n",
        "  list_a = []\n",
        "\n",
        "#converting the string input to list\n",
        "  for i in range(len(a_list)):\n",
        "    if a_list[i] == \",\":\n",
        "      list_a.append(int(new_str))\n",
        "      new_str = \"\"\n",
        "    else:\n",
        "      new_str += a_list[i]\n",
        "#converting the list to array\n",
        "  import numpy as np\n",
        "  array = np.zeros(len(list_a), dtype=int)\n",
        "\n",
        "  for i in range(array.size):\n",
        "      array[i] = list_a[i]\n",
        "\n",
        "\n",
        "#checking how many even/odd number is there\n",
        "  even_count = 0\n",
        "  odd_count = 0\n",
        "\n",
        "  for ind in range(array.size):\n",
        "    if array[ind] % 2 == 0:\n",
        "      even_count += 1\n",
        "    else:\n",
        "      odd_count += 1\n",
        "#creating the even/odd array\n",
        "  even_array = np.zeros(even_count, dtype=int)\n",
        "  odd_array = np.zeros(odd_count, dtype=int)\n",
        "\n",
        "#adding the even/odd values to their designated arrays as there is complexities\n",
        "  even_ind = 0\n",
        "  odd_ind = 0\n",
        "\n",
        "  for j in range(array.size):\n",
        "    if array[j] % 2 == 0:\n",
        "      even_array[even_ind] = array[j]\n",
        "      even_ind += 1 #increasing the index this way as using loop is difficult\n",
        "    else:\n",
        "      odd_array[odd_ind] = array[j]\n",
        "      odd_ind += 1 #increasing the index this way as using loop is difficult\n",
        "\n",
        "  return even_array, odd_array\n",
        "\n",
        "\n",
        "\n",
        "\n",
        "str1 = \"4, 1, 3, 2, 9, 11, 34, 56, 22, 33, 78\"+\",\"\n",
        "even_result, odd_result = seperate_array(str1)\n",
        "\n",
        "print(\"even :\",even_result)\n",
        "print(\"odd :\",odd_result)"
      ]
    },
    {
      "cell_type": "markdown",
      "metadata": {},
      "source": [
        "ARRAY Practice and Problems"
      ]
    },
    {
      "cell_type": "code",
      "execution_count": null,
      "metadata": {},
      "outputs": [],
      "source": [
        "# creating from an input string\n",
        "# we know that the length of an array is fixed and can not be changed\n",
        "# so, we need to know the length of our desired array beforehand\n",
        "# otherwise, you can create a list from the input string and then convert it into a array\n",
        "import numpy as np\n",
        "\n",
        "user = \"Clark Kent, Bruce Wayne, Diana Prince, Barry Allen\"+\",\"\n",
        "new_str = \"\"\n",
        "new_list = []\n",
        "for i in range(len(user)):\n",
        "  if user[i] == \",\":\n",
        "    new_list.append(new_str)\n",
        "    new_str = \"\"\n",
        "  else:\n",
        "    new_str += user[i]\n",
        "print(new_list)\n",
        "\n",
        "size = len(new_list)\n",
        "\n",
        "arr = np.zeros(size, dtype = str)\n",
        "\n",
        "arr1 = np.array(new_list)\n",
        "print(arr1)"
      ]
    },
    {
      "cell_type": "markdown",
      "metadata": {},
      "source": [
        "Recursion Practice"
      ]
    },
    {
      "cell_type": "code",
      "execution_count": 1,
      "metadata": {},
      "outputs": [
        {
          "data": {
            "text/plain": [
              "120"
            ]
          },
          "execution_count": 1,
          "metadata": {},
          "output_type": "execute_result"
        }
      ],
      "source": [
        "def factorial(n):\n",
        "    if n == 1:\n",
        "        return 1\n",
        "    else:\n",
        "        return n*factorial(n-1)\n",
        "factorial(5)"
      ]
    },
    {
      "cell_type": "code",
      "execution_count": null,
      "metadata": {},
      "outputs": [],
      "source": [
        "def fibonacci(n):\n",
        "  if n == 0 or n == 1:\n",
        "    return 1\n",
        "  else:\n",
        "    return fibonacci(n-1)+fibonacci(n-2) \n",
        "fibonacci(5)"
      ]
    },
    {
      "cell_type": "code",
      "execution_count": 4,
      "metadata": {},
      "outputs": [
        {
          "data": {
            "text/plain": [
              "64"
            ]
          },
          "execution_count": 4,
          "metadata": {},
          "output_type": "execute_result"
        }
      ],
      "source": [
        "def power(b,p):\n",
        "  if p == 1:\n",
        "    return b\n",
        "  else:\n",
        "    return b*power(b,p-1)\n",
        "\n",
        "power(4,3)"
      ]
    },
    {
      "cell_type": "code",
      "execution_count": 3,
      "metadata": {},
      "outputs": [
        {
          "data": {
            "text/plain": [
              "-15"
            ]
          },
          "execution_count": 3,
          "metadata": {},
          "output_type": "execute_result"
        }
      ],
      "source": [
        "#Fall'23-Section4_Final\n",
        "def sequence_recursive(st,n):\n",
        "  y = 0\n",
        "  if st == n+1:\n",
        "    return y\n",
        "  elif st%2==0:\n",
        "     y += (st**2)\n",
        "     return y+ sequence_recursive(st+1,n)\n",
        "  else:\n",
        "     y -= (st**2)\n",
        "  return y+sequence_recursive(st+1,n)\n",
        "\n",
        "sequence_recursive(1,5)"
      ]
    },
    {
      "cell_type": "code",
      "execution_count": 2,
      "metadata": {},
      "outputs": [
        {
          "name": "stdout",
          "output_type": "stream",
          "text": [
            "1 2 3 4 5 6 7 8 9 10 "
          ]
        }
      ],
      "source": [
        "def one_to_N(st,n):\n",
        "  if st == n+1:\n",
        "    return n\n",
        "  else:\n",
        "    print(st,end=\" \")\n",
        "    return one_to_N(st+1,n)\n",
        "\n",
        "result = one_to_N(1,10)"
      ]
    },
    {
      "cell_type": "code",
      "execution_count": 5,
      "metadata": {},
      "outputs": [
        {
          "data": {
            "text/plain": [
              "21"
            ]
          },
          "execution_count": 5,
          "metadata": {},
          "output_type": "execute_result"
        }
      ],
      "source": [
        "#Write a Python program to sum recursion lists using recursion.\n",
        "# Test Data: [1, 2, [3,4], [5,6]]\n",
        "# Expected Result: 21\n",
        "\n",
        "def recursivelist(n):\n",
        "  total = 0\n",
        "  for i in n:\n",
        "    if type(i) == list:\n",
        "      total += recursivelist(i)\n",
        "    else:\n",
        "      total += i\n",
        "  return total\n",
        "\n",
        "list1 = [1, 2, [3,4], [5,6]]\n",
        "recursivelist(list1)"
      ]
    },
    {
      "cell_type": "code",
      "execution_count": 6,
      "metadata": {},
      "outputs": [
        {
          "data": {
            "text/plain": [
              "[1, 2, 3, 4, 5, 6, 7, 8, 9, 10, 11, 12, 13, 14]"
            ]
          },
          "execution_count": 6,
          "metadata": {},
          "output_type": "execute_result"
        }
      ],
      "source": [
        "#converting nested list to a single list using recursion\n",
        "def rec_list(n):\n",
        "  r_list = []\n",
        "  for i in range(len(n)):\n",
        "    if type(n[i]) != list:\n",
        "      r_list.append(n[i])\n",
        "    else:\n",
        "      r_list += rec_list(n[i])\n",
        "  return r_list \n",
        "list1 = [1,2,[3,[4,5,6],7,8,[9,10,11],12],13,14]\n",
        "rec_list(list1)\n",
        "\n",
        "# def rec_list(n):\n",
        "#   r_list = []\n",
        "#   for i in n:\n",
        "#     if type(i) == list:\n",
        "#        r_list += rec_list(i)\n",
        "#     else:\n",
        "#       r_list.append(i)\n",
        "#   return r_list\n",
        "# list1 = [1,2,[3,[4,5,6],7,8,[9,10,11],12],13,14]\n",
        "# rec_list(list1)"
      ]
    },
    {
      "cell_type": "code",
      "execution_count": null,
      "metadata": {},
      "outputs": [],
      "source": [
        "#Tower_of_Hanoi\n",
        "def Hanoi(n):\n",
        "    if n == 3:\n",
        "        return 7\n",
        "    return Hanoi(n-1) + 1 + Hanoi(n-1)\n",
        "\n",
        "Hanoi(int(input()))"
      ]
    }
  ],
  "metadata": {
    "colab": {
      "provenance": []
    },
    "kernelspec": {
      "display_name": "Python 3",
      "name": "python3"
    },
    "language_info": {
      "codemirror_mode": {
        "name": "ipython",
        "version": 3
      },
      "file_extension": ".py",
      "mimetype": "text/x-python",
      "name": "python",
      "nbconvert_exporter": "python",
      "pygments_lexer": "ipython3",
      "version": "3.12.0"
    }
  },
  "nbformat": 4,
  "nbformat_minor": 0
}
