{
  "cells": [
    {
      "cell_type": "code",
      "execution_count": 2,
      "metadata": {
        "id": "f9vJyVhbNBai"
      },
      "outputs": [],
      "source": [
        "import numpy as np"
      ]
    },
    {
      "cell_type": "code",
      "execution_count": 22,
      "metadata": {
        "colab": {
          "base_uri": "https://localhost:8080/"
        },
        "id": "D3UbETOxShuH",
        "outputId": "0ad3ac76-66a9-4b05-e1ac-f4cb43cfc7c3"
      },
      "outputs": [
        {
          "name": "stdout",
          "output_type": "stream",
          "text": [
            "enter your size : 3\n",
            "[0 0 0]\n",
            "enter values for the array : 5\n",
            "enter values for the array : 8\n",
            "enter values for the array : 2\n",
            "Original Array : [5 8 2]\n",
            "enter the last value for new array : 9\n",
            "Resized Array : [5 8 2 9]\n"
          ]
        }
      ],
      "source": [
        "#Task1\n",
        "N = int(input(\"enter your size : \"))\n",
        "\n",
        "array = np.zeros(N, dtype = int)\n",
        "print(array)\n",
        "\n",
        "for i in range(N):\n",
        "  array[i] = int(input(\"enter values for the array : \"))\n",
        "print(\"Original Array :\",array)\n",
        "\n",
        "new_array = np.zeros(N+1, dtype = int)\n",
        "\n",
        "for j in range(N+1):\n",
        "  if j == N:\n",
        "    new_array[j] = int(input(\"enter the last value for new array : \"))\n",
        "  else:\n",
        "    new_array[j] = array[j]\n",
        "print(\"Resized Array :\",new_array)"
      ]
    },
    {
      "cell_type": "code",
      "execution_count": 28,
      "metadata": {
        "colab": {
          "base_uri": "https://localhost:8080/"
        },
        "id": "IXHt9sokFfCA",
        "outputId": "eb515423-07fd-45f1-e28d-be2fed7df6b6"
      },
      "outputs": [
        {
          "name": "stdout",
          "output_type": "stream",
          "text": [
            "enter your size : 4\n",
            "[0 0 0 0]\n",
            "enter values for the array : 3\n",
            "enter values for the array : 4\n",
            "enter values for the array : -2\n",
            "enter values for the array : 1\n",
            "Original Array : [ 3  4 -2  1]\n",
            "After modifying : [1 1 0 1]\n"
          ]
        }
      ],
      "source": [
        "#Task2\n",
        "N = int(input(\"enter your size : \"))\n",
        "\n",
        "array = np.zeros(N, dtype = int)\n",
        "print(array)\n",
        "\n",
        "for i in range(N):\n",
        "  array[i] = int(input(\"enter values for the array : \"))\n",
        "print(\"Original Array :\",array)\n",
        "\n",
        "for j in range(N):\n",
        "  if array[j] > 0:\n",
        "    array[j] = 1\n",
        "  elif array[j] < 0:\n",
        "    array[j] = 0\n",
        "print(\"After modifying :\",array)"
      ]
    },
    {
      "cell_type": "code",
      "execution_count": 37,
      "metadata": {
        "colab": {
          "base_uri": "https://localhost:8080/"
        },
        "id": "RwPFrbzpIcwn",
        "outputId": "da3f6084-def4-40e7-cf5a-efbb0f1d1319"
      },
      "outputs": [
        {
          "name": "stdout",
          "output_type": "stream",
          "text": [
            "[ 7  5 20 12 10]\n"
          ]
        }
      ],
      "source": [
        "#Task3\n",
        "def reversearray(n):\n",
        "  i = 0\n",
        "  j = n.size - 1\n",
        "\n",
        "  while i<j:\n",
        "    arr1[i],arr1[j] = arr1[j],arr1[i]\n",
        "    i += 1\n",
        "    j -= 1\n",
        "  return n\n",
        "\n",
        "arr1 = np.array([10, 12, 20, 5, 7])\n",
        "arr1 = reversearray(arr1)\n",
        "print(arr1)"
      ]
    },
    {
      "cell_type": "code",
      "execution_count": 49,
      "metadata": {
        "colab": {
          "base_uri": "https://localhost:8080/"
        },
        "id": "Xx_ZJksfRN3W",
        "outputId": "45450cee-a63b-4ff7-d2f5-d1b9726dbadf"
      },
      "outputs": [
        {
          "name": "stdout",
          "output_type": "stream",
          "text": [
            "7 8\n",
            "10 5\n"
          ]
        }
      ],
      "source": [
        "#Task4\n",
        "def printpairs (array,sum):\n",
        "  flag = False\n",
        "  for i in range(array.size):\n",
        "    for j in range(i+1,array.size):\n",
        "      if array[i] + array[j] == sum:\n",
        "        flag = True\n",
        "        print(array[i],array[j])\n",
        "\n",
        "  if flag == False:\n",
        "    print(\"No Pair Found\")\n",
        "\n",
        "arr1 = np.array([7,8,10,5,3,4,2])\n",
        "printpairs(arr1,15)"
      ]
    },
    {
      "cell_type": "code",
      "execution_count": 70,
      "metadata": {
        "colab": {
          "base_uri": "https://localhost:8080/"
        },
        "id": "J7Dtg62Xj8I7",
        "outputId": "47f89bd8-4b94-4b07-d11e-07da24668919"
      },
      "outputs": [
        {
          "name": "stdout",
          "output_type": "stream",
          "text": [
            "Dot Product 95\n",
            "[1 5 3 9] [4 2 6 7]\n"
          ]
        }
      ],
      "source": [
        "#Task5\n",
        "vec1 = np.array([1,2,3,7])\n",
        "vec2 = np.array([4,5,6,9])\n",
        "# vec1 = np.array([1,2,3])\n",
        "# vec2 = np.array([4,5,6])\n",
        "\n",
        "dot_prod = 0\n",
        "\n",
        "for i in range(vec1.size):\n",
        "  dot_prod = dot_prod+(vec1[i]*vec2[i])\n",
        "print(\"Dot Product\",dot_prod)\n",
        "\n",
        "if dot_prod%2==0:\n",
        "  for j in range(vec1.size):\n",
        "    if j%2 == 0:\n",
        "      vec1[j],vec2[j] = vec2[j],vec1[j]\n",
        "else:\n",
        "  for k in range(vec1.size):\n",
        "    if k%2 != 0:\n",
        "      vec1[k],vec2[k] = vec2[k],vec1[k]\n",
        "print(vec1,vec2)"
      ]
    },
    {
      "cell_type": "code",
      "execution_count": 3,
      "metadata": {
        "id": "fM6Gmi-MojMl"
      },
      "outputs": [
        {
          "name": "stdout",
          "output_type": "stream",
          "text": [
            "Orginal Array: [3 6 1 2 8 5]\n",
            "Sorted Array: [1 2 3 5 6 8]\n"
          ]
        }
      ],
      "source": [
        "#Task6\n",
        "size=int(input())\n",
        "Array=np.zeros(size,dtype=int)\n",
        "\n",
        "for i in range(size):\n",
        "  Array[i]=int(input())\n",
        "print(\"Orginal Array:\",Array)\n",
        "\n",
        "for i in range(size):\n",
        "  min_index=i\n",
        "  for j in range(i+1,size):\n",
        "    if Array[min_index]>Array[j]:\n",
        "      min_index=j\n",
        "  Array[i],Array[min_index]=Array[min_index],Array[i]\n",
        "  \n",
        "print(\"Sorted Array:\",Array)"
      ]
    },
    {
      "cell_type": "code",
      "execution_count": 77,
      "metadata": {
        "colab": {
          "base_uri": "https://localhost:8080/"
        },
        "id": "ZHCFAX4lpqih",
        "outputId": "d4680a28-9179-45aa-ce2d-20b8058b6eaa"
      },
      "outputs": [
        {
          "name": "stdout",
          "output_type": "stream",
          "text": [
            "[1 2 3 4 5 6]\n"
          ]
        }
      ],
      "source": [
        "#Task7\n",
        "def flatten(array):\n",
        "  row = array.shape[0]\n",
        "  col = array.shape[1]\n",
        "  new_array = np.zeros(array.size,dtype= int)\n",
        "  index = 0\n",
        "  for i in range(row):\n",
        "    for j in range(col):\n",
        "      new_array[index] = array[i][j]\n",
        "      index += 1\n",
        "  return new_array\n",
        "\n",
        "arr1 = np.array([[1,2,3],[4,5,6]])\n",
        "arr2 = flatten(arr1)\n",
        "print(arr2)"
      ]
    },
    {
      "cell_type": "code",
      "execution_count": 10,
      "metadata": {},
      "outputs": [
        {
          "name": "stdout",
          "output_type": "stream",
          "text": [
            "identity Matrix\n"
          ]
        }
      ],
      "source": [
        "#Task8\n",
        "A = np.array([ [1, 0, 0],[0, 1, 0],[0, 0, 1] ])\n",
        "counter=0\n",
        "counter1=0\n",
        "\n",
        "for i in range(A.shape[0]):\n",
        "  for j in range(A.shape[1]):\n",
        "    if A[i][j]!=0 and A[i][j]!=1:\n",
        "      counter1+=1\n",
        "    elif i!=j:\n",
        "      if A[i][j]!=0:\n",
        "        counter1+=1\n",
        "    elif i==j:\n",
        "      if A[i][j]==1:\n",
        "        counter+=1\n",
        "if counter1>0:\n",
        "      print(\"Not identiy Matrix\")\n",
        "elif counter==len(A):\n",
        "      print(\"identity Matrix\")"
      ]
    },
    {
      "cell_type": "code",
      "execution_count": 12,
      "metadata": {},
      "outputs": [
        {
          "name": "stdout",
          "output_type": "stream",
          "text": [
            "22\n"
          ]
        }
      ],
      "source": [
        "#Task9\n",
        "A = np.array([ [1,  5,  12,  1],\n",
        "               [2,  -4,  6,  7],\n",
        "               [3,  8,  5,  9],\n",
        "               [3,  5,  23,  -6] ])\n",
        "row=A.shape[0]\n",
        "column=A.shape[1]\n",
        "sum1=0\n",
        "sum2=0\n",
        "for i in range(row):\n",
        "  for j in range(column):\n",
        "    if i==j:\n",
        "      sum1+=A[i][j]\n",
        "for i in range(row):\n",
        "  sum2+=A[i][column-1]\n",
        "  column-=1\n",
        "print(abs(sum1-sum2))"
      ]
    },
    {
      "cell_type": "code",
      "execution_count": 11,
      "metadata": {},
      "outputs": [
        {
          "name": "stdout",
          "output_type": "stream",
          "text": [
            "[[1 4 7]\n",
            " [2 5 8]\n",
            " [3 6 9]]\n"
          ]
        }
      ],
      "source": [
        "#Task 10.1\n",
        "A = np.array([[1, 2, 3],[4, 5, 6],[7, 8, 9]])\n",
        "\n",
        "\n",
        "B=np.zeros(shape=(A.shape[1],A.shape[0]),dtype=int)\n",
        "for i in range(A.shape[0]):\n",
        "  for j in range(B.shape[0]):\n",
        "    B[j][i]=A[i][j]\n",
        "print(B)"
      ]
    },
    {
      "cell_type": "code",
      "execution_count": 7,
      "metadata": {},
      "outputs": [
        {
          "name": "stdout",
          "output_type": "stream",
          "text": [
            "[[ 66  78  90]\n",
            " [ 78  93 108]\n",
            " [ 90 108 126]]\n"
          ]
        }
      ],
      "source": [
        "#Task 10.2\n",
        "A = np.array([[1, 2, 3],[4, 5, 6],[7, 8, 9]])\n",
        "\n",
        "B=np.zeros(shape=(A.shape[1],A.shape[0]),dtype=int)\n",
        "\n",
        "for i in range(A.shape[0]):\n",
        "  for j in range(B.shape[0]):\n",
        "    B[j][i]=A[i][j]\n",
        "M=A.shape[0]\n",
        "N=A.shape[1]\n",
        "outedA=np.zeros(shape=(B.shape[0],A.shape[1]),dtype=int)\n",
        "\n",
        "for i in range(N):\n",
        "  for j in range(N):\n",
        "    sum=0\n",
        "    for k in range(M):\n",
        "      sum+=B[i][k]*A[k][j]\n",
        "    outedA[i][j]=sum\n",
        "\n",
        "print(outedA)"
      ]
    },
    {
      "cell_type": "code",
      "execution_count": null,
      "metadata": {},
      "outputs": [],
      "source": [
        "#Task11\n",
        "A = np.array([[4,1,2],[9,3,7]])\n",
        "\n",
        "M=A.shape[0]\n",
        "N=A.shape[1]\n",
        "B=np.zeros(shape=(M,N),dtype=float)\n",
        "\n",
        "absolutevalue = abs(row-column)\n",
        "remainder = absolutevalue%M\n",
        "\n",
        "summation=0\n",
        "\n",
        "for j in range(N):\n",
        "    summation+=A[remainder+1][j]\n",
        "average=summation/N\n",
        "\n",
        "for i in range(M):\n",
        "  for j in range(N):\n",
        "    B[i][j]=A[i][j]*round(average,2)\n",
        "print(B)"
      ]
    }
  ],
  "metadata": {
    "colab": {
      "provenance": []
    },
    "kernelspec": {
      "display_name": "Python 3",
      "name": "python3"
    },
    "language_info": {
      "codemirror_mode": {
        "name": "ipython",
        "version": 3
      },
      "file_extension": ".py",
      "mimetype": "text/x-python",
      "name": "python",
      "nbconvert_exporter": "python",
      "pygments_lexer": "ipython3",
      "version": "3.12.0"
    }
  },
  "nbformat": 4,
  "nbformat_minor": 0
}
