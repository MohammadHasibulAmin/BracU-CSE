{
 "cells": [
  {
   "cell_type": "code",
   "execution_count": 1,
   "metadata": {},
   "outputs": [
    {
     "name": "stdout",
     "output_type": "stream",
     "text": [
      "24,18,12,6,0,-6"
     ]
    }
   ],
   "source": [
    "counter = 24\n",
    "\n",
    "while counter >= -6:\n",
    "  if counter == -6:\n",
    "    print(counter,end=\"\")\n",
    "  else:\n",
    "    print(counter,end=\",\")\n",
    "  counter -= 6"
   ]
  },
  {
   "cell_type": "code",
   "execution_count": 7,
   "metadata": {},
   "outputs": [
    {
     "name": "stdout",
     "output_type": "stream",
     "text": [
      "18,27,36,45,54,63"
     ]
    }
   ],
   "source": [
    "counter = 18\n",
    "\n",
    "while counter <= 63:\n",
    "    if counter == 63:\n",
    "        print(counter,end=\"\")\n",
    "    else:\n",
    "        print(counter,end=\",\")\n",
    "    counter += 9"
   ]
  },
  {
   "cell_type": "code",
   "execution_count": 12,
   "metadata": {},
   "outputs": [
    {
     "name": "stdout",
     "output_type": "stream",
     "text": [
      "15\n"
     ]
    }
   ],
   "source": [
    "n = int(input(\"enter any number : \"))\n",
    "sum = 0\n",
    "\n",
    "for i in range(1,n+1):\n",
    "    if i%2==0:\n",
    "        sum -= i**2\n",
    "    else:\n",
    "        sum += i**2\n",
    "print(sum)"
   ]
  },
  {
   "cell_type": "code",
   "execution_count": 13,
   "metadata": {},
   "outputs": [
    {
     "name": "stdout",
     "output_type": "stream",
     "text": [
      "8,6,7,2,3"
     ]
    }
   ],
   "source": [
    "n = int(input(\"enter any number : \"))\n",
    "floored = n\n",
    "remainder = n\n",
    "\n",
    "while floored > 0:\n",
    "    remainder = floored % 10\n",
    "    floored = floored // 10\n",
    "    if floored ==0:\n",
    "        print(remainder,end=\"\")\n",
    "    else:\n",
    "        print(remainder,end=\",\")"
   ]
  },
  {
   "cell_type": "code",
   "execution_count": null,
   "metadata": {},
   "outputs": [],
   "source": [
    "a_list = []\n",
    "\n",
    "for i in range(1,6):\n",
    "    user = int(input(\"enter your desired values : \"))\n",
    "    a_list.append(user)\n",
    "print(\"input data :\",a_list)\n",
    "for i in range(-1,len(a_list)*-1-1,-1):\n",
    "    print(a_list[i])\n"
   ]
  },
  {
   "cell_type": "code",
   "execution_count": 9,
   "metadata": {},
   "outputs": [
    {
     "name": "stdout",
     "output_type": "stream",
     "text": [
      "max 30\n",
      "min 10\n"
     ]
    }
   ],
   "source": [
    "user = int(input(\"type any number : \"))\n",
    "\n",
    "max = user\n",
    "min = user\n",
    "\n",
    "for i in range(1,3):\n",
    "    user = int(input(\"type other number : \"))\n",
    "    if user > max:\n",
    "        max = user\n",
    "    elif user < min:\n",
    "        min = user\n",
    "print(\"max\",max)\n",
    "print(\"min\",min)"
   ]
  },
  {
   "cell_type": "code",
   "execution_count": 29,
   "metadata": {},
   "outputs": [
    {
     "name": "stdout",
     "output_type": "stream",
     "text": [
      "max value :  3\n",
      "min value :  1\n"
     ]
    }
   ],
   "source": [
    "#Write a function that print the max of 3 numbers\n",
    "\n",
    "def maxfinder():\n",
    "    user_x = int(input(\"value : \"))\n",
    "    max = user_x\n",
    "    min = user_x\n",
    "    for i in range(1,3):\n",
    "        user_x = int(input(\"value : \"))\n",
    "        if user_x > max:\n",
    "            max = user_x\n",
    "        elif user_x < min:\n",
    "            min = user_x\n",
    "    return max,min\n",
    "max_r, min_r = maxfinder()\n",
    "print(\"max value : \",max_r)\n",
    "print(\"min value : \",min_r)\n"
   ]
  },
  {
   "cell_type": "code",
   "execution_count": 19,
   "metadata": {},
   "outputs": [
    {
     "name": "stdout",
     "output_type": "stream",
     "text": [
      "even :  True\n"
     ]
    }
   ],
   "source": [
    "#write a function that checks if a number is even or not\n",
    "def evenchecker():\n",
    "    user_x = int(input(\"type any value : \"))\n",
    "    if user_x%2==0:\n",
    "        even = True\n",
    "    else:\n",
    "        even = False\n",
    "    return even\n",
    "even = evenchecker()\n",
    "print(\"even : \",even)"
   ]
  },
  {
   "cell_type": "code",
   "execution_count": 29,
   "metadata": {},
   "outputs": [
    {
     "name": "stdout",
     "output_type": "stream",
     "text": [
      "Invalid semester digit\n"
     ]
    }
   ],
   "source": [
    "#Write a function that takes student ID and prints the year and semester\n",
    "\n",
    "def get_year_semester(student_id):\n",
    "    year = int(str(student_id)[:2])\n",
    "    semester_digit = int(str(student_id)[2])\n",
    "\n",
    "    if semester_digit == 0:\n",
    "        semester = \"Spring\"\n",
    "    elif semester_digit == 1:\n",
    "        semester = \"Summer\"\n",
    "    elif semester_digit == 2:\n",
    "        semester = \"Fall\"\n",
    "    else:\n",
    "        return \"Invalid semester digit\"\n",
    "\n",
    "    return f\"{semester} {year}\"\n",
    "\n",
    "\n",
    "student_id = input(\"\")\n",
    "result = get_year_semester(student_id)\n",
    "print(result)\n"
   ]
  },
  {
   "cell_type": "code",
   "execution_count": 52,
   "metadata": {},
   "outputs": [
    {
     "name": "stdout",
     "output_type": "stream",
     "text": [
      "s,a,s,s,a,s,a,s"
     ]
    }
   ],
   "source": [
    "user = input(\"amar matha likh : \")\n",
    "y = len(user)\n",
    "\n",
    "for i in range(0,y):\n",
    "    if i==y-1:\n",
    "        print(user[i],end=\"\")\n",
    "    else:\n",
    "        print(user[i],end=\",\")"
   ]
  },
  {
   "cell_type": "code",
   "execution_count": null,
   "metadata": {},
   "outputs": [],
   "source": [
    "#Write a function that takes n as parameter and then takes n inputs to calculate \n",
    "\n",
    "def myFunc(n): # n = user\n",
    "  sum = 0\n",
    "  for i in range(n):\n",
    "    num = int(input())\n",
    "    sum += num\n",
    "  print(sum)\n",
    "\n",
    "user = int(input())\n",
    "myFunc(user)"
   ]
  },
  {
   "cell_type": "code",
   "execution_count": 3,
   "metadata": {},
   "outputs": [
    {
     "name": "stdout",
     "output_type": "stream",
     "text": [
      "\"SUygetSU\" has uppercase in first two words and last words or not :  True\n"
     ]
    }
   ],
   "source": [
    "#Write a function that will return True if a given string's first two and last two characters are \n",
    "#in upper case and otherwise return False. You have to show the output by printing the returned value.\n",
    "#ASCII range : 65-90\n",
    "\n",
    "def detect(n):\n",
    "    detector = False \n",
    "\n",
    "    for i in range(2):\n",
    "        if 65 <= ord(n[i]) <= 90:\n",
    "            detector = True\n",
    "\n",
    "    for i in range(len(n)-2,len(n)):\n",
    "        if 65 <= ord(n[i]) <= 90:\n",
    "            detector = True\n",
    "\n",
    "    return detector\n",
    "\n",
    "user = input(\"Type any word: \")\n",
    "print('\"'+user+'\"',\"has uppercase in first two words and last words or not : \",detect(user))\n"
   ]
  },
  {
   "cell_type": "code",
   "execution_count": 1,
   "metadata": {},
   "outputs": [
    {
     "name": "stdout",
     "output_type": "stream",
     "text": [
      "The GCD of 48 and 18 is: 6\n"
     ]
    }
   ],
   "source": [
    "#Greatest Common Divisor\n",
    "\n",
    "def gcd(a, b):\n",
    "    while b:\n",
    "        a, b = b, a % b\n",
    "    return a\n",
    "\n",
    "num1 = int(input(\"enter first value : \"))\n",
    "num2 = int(input(\"enter second value : \"))\n",
    "\n",
    "result = gcd(num1, num2)\n",
    "print(f\"The GCD of {num1} and {num2} is: {result}\")\n",
    "\n",
    "#In this code, the gcd function takes two parameters, a and b, and uses the Euclidean algorithm to find the GCD. \n",
    "#The algorithm repeatedly replaces the larger number with the remainder of the division of the larger number by the smaller number until the remainder is zero. \n",
    "#The GCD is then the non-zero remainder.\n"
   ]
  },
  {
   "cell_type": "markdown",
   "metadata": {},
   "source": [
    "LAB ASSIGNMENT-5"
   ]
  },
  {
   "cell_type": "code",
   "execution_count": 3,
   "metadata": {},
   "outputs": [
    {
     "name": "stdout",
     "output_type": "stream",
     "text": [
      "even\n"
     ]
    }
   ],
   "source": [
    "#1.1\n",
    "def evenchecker(n):\n",
    "    if n%2==0:\n",
    "        print(\"even\")\n",
    "    else:\n",
    "        print(\"odd\")\n",
    "evenchecker(int(input(\"type any number : \")))\n",
    "        "
   ]
  },
  {
   "cell_type": "code",
   "execution_count": 6,
   "metadata": {},
   "outputs": [
    {
     "name": "stdout",
     "output_type": "stream",
     "text": [
      "True\n"
     ]
    }
   ],
   "source": [
    "#1.2\n",
    "def iseven(n):\n",
    "    if n%2==0:\n",
    "        return True\n",
    "    else:\n",
    "        return False\n",
    "user = iseven(int(input(\"type any number : \")))\n",
    "print(user)"
   ]
  },
  {
   "cell_type": "code",
   "execution_count": 2,
   "metadata": {},
   "outputs": [
    {
     "name": "stdout",
     "output_type": "stream",
     "text": [
      "False\n"
     ]
    }
   ],
   "source": [
    "#CW-1.3\n",
    "def ispos(n):\n",
    "    if 0 < n:\n",
    "        return True\n",
    "    else:\n",
    "        return False\n",
    "user = ispos(int(input(\"type any number : \")))\n",
    "print(user)"
   ]
  },
  {
   "cell_type": "code",
   "execution_count": 13,
   "metadata": {},
   "outputs": [
    {
     "name": "stdout",
     "output_type": "stream",
     "text": [
      "-7 -5 -3 -1 "
     ]
    }
   ],
   "source": [
    "#1.4\n",
    "def sequence(n):\n",
    "    if ispos(n):\n",
    "        for i in range(1,n+1):\n",
    "            if iseven(i):\n",
    "                print(i, end=\" \")\n",
    "    else:\n",
    "        for i in range(n,0):\n",
    "            if not (iseven(i)):\n",
    "                print(i,end=\" \")\n",
    "sequence(int(input(\"type any number : \")))\n",
    "\n",
    "\n"
   ]
  },
  {
   "cell_type": "code",
   "execution_count": 20,
   "metadata": {},
   "outputs": [
    {
     "data": {
      "text/plain": [
       "True"
      ]
     },
     "execution_count": 20,
     "metadata": {},
     "output_type": "execute_result"
    }
   ],
   "source": [
    "#2.1\n",
    "def is_valid_traingle(x,y,z):\n",
    "    if x+y > z and x+z > y and y+z > x:\n",
    "        return True\n",
    "    else:\n",
    "        return False\n",
    "is_valid_traingle(int(input(\"\")),int(input(\"\")),int(input(\"\")))"
   ]
  },
  {
   "cell_type": "code",
   "execution_count": 24,
   "metadata": {},
   "outputs": [
    {
     "name": "stdout",
     "output_type": "stream",
     "text": [
      "cant' form a triangle\n"
     ]
    }
   ],
   "source": [
    "#2.2\n",
    "def tri_area(x,y,z):\n",
    "    if is_valid_traingle(x,y,z):\n",
    "        s = (x+y+z)/2\n",
    "        area = (s*(s-x)*(s-y)*(s-z)) ** 0.5 #multiplying something by 0.5 is the equivalent of square root\n",
    "        print(area)\n",
    "    else:\n",
    "        print(\"cant' form a triangle\")\n",
    "tri_area(int(input(\"\")),int(input(\"\")),int(input(\"\")))"
   ]
  },
  {
   "cell_type": "code",
   "execution_count": 35,
   "metadata": {},
   "outputs": [
    {
     "name": "stdout",
     "output_type": "stream",
     "text": [
      "78.53999999999999\n"
     ]
    }
   ],
   "source": [
    "#3.1\n",
    "pie = 3.1416\n",
    "\n",
    "def circle(n):\n",
    "    area = pie * (n ** 2)\n",
    "    return area\n",
    "\n",
    "radius = int(input(\"shatti i break the spine : \"))\n",
    "result = circle(radius)\n",
    "print(result)\n"
   ]
  },
  {
   "cell_type": "code",
   "execution_count": 1,
   "metadata": {},
   "outputs": [
    {
     "name": "stdout",
     "output_type": "stream",
     "text": [
      "523.5999999999999\n"
     ]
    }
   ],
   "source": [
    "#3.2\n",
    "pie = 3.1416\n",
    "\n",
    "def sphere(n):\n",
    "    volume = (4/3) * pie * n**3\n",
    "    return volume\n",
    "rdr = int(input(\"enter the value : \"))\n",
    "result = sphere(rdr)\n",
    "print(result)\n"
   ]
  },
  {
   "cell_type": "code",
   "execution_count": null,
   "metadata": {},
   "outputs": [],
   "source": [
    "#3.3\n",
    "def fitting(d1,d2,dim):\n",
    "  if d1!=d2:\n",
    "   if dim==3:\n",
    "    v1=sphere(d1/2)\n",
    "    v2=sphere(d2/2)\n",
    "    if v1>v2:\n",
    "      print(f\"Sphere-2 can fit inside Sphere-1 and {v1-v2} cubic units would be left\")\n",
    "    elif v2>v1:\n",
    "      print(f\"Sphere-1 can fit inside Sphere-2 and {v2-v1} cubic units would be left\")\n",
    "   else:\n",
    "    a1=circle(d1/2),3\n",
    "    a2=circle(d2/2),3\n",
    "    if a1>a2:\n",
    "      print(f\"Circle-2 can fit inside Circle-1 and {a1-a2} square units would be left\")\n",
    "    elif a2>a1:\n",
    "      print(f\"Circle-1 can fit inside Circle-2 and {a2-a1} square units would be left\")\n",
    "  else:\n",
    "    print(\"Impossible to fit\")\n",
    "fitting(int(input(\"\")),int(input(\"\")),int(input(\"\")))\n",
    "    "
   ]
  },
  {
   "cell_type": "code",
   "execution_count": 45,
   "metadata": {},
   "outputs": [
    {
     "name": "stdout",
     "output_type": "stream",
     "text": [
      "True\n"
     ]
    }
   ],
   "source": [
    "#HW-1.1\n",
    "\n",
    "def is_prime(n):\n",
    "    if n<2:\n",
    "        return False\n",
    "    for i in range(2,int(n**0.5) + 1):\n",
    "        if n % i == 0:\n",
    "            return False\n",
    "    return True\n",
    "               \n",
    "prime_check = is_prime(int(input(\"enter any value : \")))\n",
    "print(prime_check)"
   ]
  },
  {
   "cell_type": "code",
   "execution_count": null,
   "metadata": {},
   "outputs": [],
   "source": [
    "#HW-1.2\n",
    "\n",
    "def is_perfect(n):\n",
    "    sum = 0\n",
    "    for i in range(1,n):\n",
    "        if n%i==0:\n",
    "            sum +=i\n",
    "    return sum == n\n",
    "perfect_check = is_perfect(int(input(\"enter any value : \")))\n",
    "print(perfect_check)"
   ]
  },
  {
   "cell_type": "code",
   "execution_count": 46,
   "metadata": {},
   "outputs": [
    {
     "name": "stdout",
     "output_type": "stream",
     "text": [
      "23\n"
     ]
    }
   ],
   "source": [
    "#HW-1.3\n",
    "\n",
    "def special_sum(n):\n",
    "    sum = 0\n",
    "    for i in range(2,n+1):\n",
    "        if is_prime(i) or is_perfect(i):\n",
    "            sum += i\n",
    "    return sum\n",
    "result = special_sum(int(input(\"enter any value : \")))\n",
    "print(result)"
   ]
  },
  {
   "cell_type": "code",
   "execution_count": 10,
   "metadata": {},
   "outputs": [
    {
     "name": "stdout",
     "output_type": "stream",
     "text": [
      "....."
     ]
    }
   ],
   "source": [
    "#HW-2.1\n",
    "\n",
    "def show_dots(n):\n",
    "    for i in range(1,n+1):\n",
    "        print(\".\",end=\"\")\n",
    "show_dots(int(input(\"\")))\n"
   ]
  },
  {
   "cell_type": "code",
   "execution_count": 6,
   "metadata": {},
   "outputs": [
    {
     "name": "stdout",
     "output_type": "stream",
     "text": [
      "123454321"
     ]
    }
   ],
   "source": [
    "#HW-2.2\n",
    "\n",
    "def show_palindrome(n):\n",
    "  for i in range(1,n):\n",
    "    print(i,end=\"\")\n",
    "  for i in range(n,0,-1):\n",
    "    print(i,end=\"\")\n",
    "show_palindrome(int(input(\"enter any value\")))"
   ]
  },
  {
   "cell_type": "code",
   "execution_count": 16,
   "metadata": {},
   "outputs": [
    {
     "name": "stdout",
     "output_type": "stream",
     "text": [
      "....1....\n",
      "...121...\n",
      "..12321..\n",
      ".1234321.\n",
      "123454321\n"
     ]
    }
   ],
   "source": [
    "#HW-2.3\n",
    "\n",
    "def show_dots(n):\n",
    "    for i in range(1,n+1):\n",
    "        print(\".\",end=\"\")\n",
    "def show_palindrome(n):\n",
    "  for i in range(1,n):\n",
    "    print(i,end=\"\")\n",
    "  for i in range(n,0,-1):\n",
    "    print(i,end=\"\")\n",
    "def show_triangle(n):\n",
    "  for i in range(1,n+1):\n",
    "    show_dots(n-i)\n",
    "    show_palindrome(i)\n",
    "    show_dots(n-i)\n",
    "    print()\n",
    "show_triangle(5)"
   ]
  },
  {
   "cell_type": "code",
   "execution_count": null,
   "metadata": {},
   "outputs": [],
   "source": [
    "#hw 3.1\n",
    "def calc_tax(age,salary):\n",
    "  if age<18 or salary<10000:\n",
    "    return 0\n",
    "  elif 10000<=salary<=20000:\n",
    "    tax= int((salary*7)/100)\n",
    "    return tax\n",
    "  elif salary>20000:\n",
    "    tax= int((salary*14)/100)\n",
    "    return tax\n",
    "\n",
    "t = calc_tax(20,18000)\n",
    "print(t)"
   ]
  },
  {
   "cell_type": "markdown",
   "metadata": {},
   "source": [
    "PRACTICE FOR QUIZ 3"
   ]
  },
  {
   "cell_type": "code",
   "execution_count": 2,
   "metadata": {},
   "outputs": [
    {
     "name": "stdout",
     "output_type": "stream",
     "text": [
      "chedder\n",
      "Edam\n",
      "Gouda\n"
     ]
    }
   ],
   "source": [
    "cheeses = ['chedder','Edam','Gouda']\n",
    "for cheese in cheeses:\n",
    "    print(cheese)"
   ]
  },
  {
   "cell_type": "code",
   "execution_count": 4,
   "metadata": {},
   "outputs": [
    {
     "name": "stdout",
     "output_type": "stream",
     "text": [
      "[2, 4, 6, 8, 10, 12]\n"
     ]
    }
   ],
   "source": [
    "numbers = [1,2,3,4,5,6]\n",
    "\n",
    "for i in range(len(numbers)):\n",
    "    numbers[i] = numbers[i] * 2\n",
    "print(numbers)"
   ]
  },
  {
   "cell_type": "markdown",
   "metadata": {},
   "source": [
    "Think Python Exercises (P-142)"
   ]
  },
  {
   "cell_type": "code",
   "execution_count": 3,
   "metadata": {},
   "outputs": [
    {
     "name": "stdout",
     "output_type": "stream",
     "text": [
      "21\n"
     ]
    }
   ],
   "source": [
    " #Ex-10.1\n",
    "def nested_sum(n):\n",
    "    total = 0\n",
    "    for i in n:\n",
    "        if type(i) == list:\n",
    "            total += nested_sum(i)\n",
    "        else:\n",
    "            total += i\n",
    "    return total\n",
    "t = [[1,2], [3],[4,5,6]]\n",
    "print(nested_sum(t))\n"
   ]
  },
  {
   "cell_type": "code",
   "execution_count": 5,
   "metadata": {},
   "outputs": [
    {
     "name": "stdout",
     "output_type": "stream",
     "text": [
      "[1, 3, 6]\n"
     ]
    }
   ],
   "source": [
    "#Ex-10.2\n",
    "\n",
    "def cumsum(n):\n",
    "    total = 0\n",
    "    for i in range(len(n)):\n",
    "        total += n[i]\n",
    "        n[i] = total\n",
    "    return n\n",
    "t = [1,2,3]\n",
    "print(cumsum(t))"
   ]
  },
  {
   "cell_type": "code",
   "execution_count": 10,
   "metadata": {},
   "outputs": [
    {
     "name": "stdout",
     "output_type": "stream",
     "text": [
      "[2, 3]\n"
     ]
    }
   ],
   "source": [
    "#Ex-10.3\n",
    "\n",
    "def middle(n):\n",
    "    return n[1:len(n)-1]\n",
    "t = [1,2,3,4]\n",
    "print(middle(t))\n",
    "\n"
   ]
  },
  {
   "cell_type": "code",
   "execution_count": null,
   "metadata": {},
   "outputs": [],
   "source": [
    "#Ex-10.4\n"
   ]
  },
  {
   "cell_type": "code",
   "execution_count": 6,
   "metadata": {},
   "outputs": [
    {
     "name": "stdout",
     "output_type": "stream",
     "text": [
      "True\n",
      "False\n"
     ]
    }
   ],
   "source": [
    "#Ex-10.5\n",
    "\n",
    "def is_sorted(n):\n",
    "    if len(n) == 1:\n",
    "        return True\n",
    "    else:\n",
    "        if (n[0] > n[1]):\n",
    "            return False\n",
    "    return is_sorted(n[1:])\n",
    "print(is_sorted([1,2,2]))\n",
    "print(is_sorted(['b','a']))\n"
   ]
  },
  {
   "cell_type": "code",
   "execution_count": 14,
   "metadata": {},
   "outputs": [
    {
     "name": "stdout",
     "output_type": "stream",
     "text": [
      "True\n",
      "True\n",
      "False\n"
     ]
    }
   ],
   "source": [
    "#Ex-10.6\n",
    "\n",
    "def anagram(a,b):\n",
    "    for i in a:\n",
    "        if i not in b:\n",
    "            return False\n",
    "    for i in b:\n",
    "        if i not in a:\n",
    "            return False\n",
    "    return True      \n",
    "print(anagram(\"earth\",\"heart\"))\n",
    "print(anagram(\"apple\", \"palpe\"))\n",
    "print(anagram(\"matha\",\"moondoo\"))\n",
    "\n"
   ]
  },
  {
   "cell_type": "code",
   "execution_count": 15,
   "metadata": {},
   "outputs": [
    {
     "name": "stdout",
     "output_type": "stream",
     "text": [
      "False\n",
      "True\n"
     ]
    }
   ],
   "source": [
    "#Ex-10.7\n",
    "\n",
    "def has_duplicate(l):\n",
    "\tfor i in range(len(l)):\n",
    "\t\tfor j in range(i+1,len(l)):\n",
    "\t\t\tif l[i] == l[j]:\n",
    "\t\t\t\treturn True\n",
    "\treturn False\n",
    "\t\n",
    "print (has_duplicate([1,2,3,4,5]))\n",
    "print (has_duplicate([1,2,3,4,5,5]))\n"
   ]
  },
  {
   "cell_type": "code",
   "execution_count": 16,
   "metadata": {},
   "outputs": [],
   "source": [
    "#Ex-10.8 (Birthday Paradox)\n",
    "\n"
   ]
  },
  {
   "cell_type": "code",
   "execution_count": null,
   "metadata": {},
   "outputs": [],
   "source": [
    "#Lab06_Task02\n",
    "n=\"[5, -5, 100, 1, 0]\"\n",
    "new_n=n[1:len(n)-1]\n",
    "l=[]\n",
    "st_idx=0\n",
    "end_idx=0\n",
    "temp=\"\"\n",
    "for i in range(len (new_n)):\n",
    "  if new_n[i]==\",\":\n",
    "    end_idx=i\n",
    "    temp=new_n[st_idx:end_idx]\n",
    "    l.append(int(temp))\n",
    "    st_idx=end_idx+2\n",
    "temp=new_n[st_idx:]\n",
    "l.append(int(temp))\n",
    "print(l)\n",
    "rev_l=[0]*len(l)\n",
    "idx=0\n",
    "for i in range(len(l)-1,-1,-1):\n",
    "  rev_l[idx]=l[i]\n",
    "  idx+=1\n",
    "print(rev_l)"
   ]
  },
  {
   "cell_type": "code",
   "execution_count": 5,
   "metadata": {},
   "outputs": [
    {
     "name": "stdout",
     "output_type": "stream",
     "text": [
      "['Hello', 'and', 'Welcome', 'to', 'CSE']\n"
     ]
    }
   ],
   "source": [
    "str1 = \"Hello and Welcome to CSE\"   #input()\n",
    "list5 = []\n",
    "new_str = \"\"\n",
    "for i in range(len(str1)):\n",
    "  if str1[i] == \" \":\n",
    "    list5.append(new_str)\n",
    "    new_str = \"\"\n",
    "  elif i == len(str1)-1:\n",
    "    new_str += str1[i]\n",
    "    list5.append(new_str)\n",
    "  else:\n",
    "    new_str += str1[i]\n",
    "\n",
    "print(list5)\n",
    "#output: [\"Hello\",\"and\",\"Welcome\",\"to\",\"CSE\"]"
   ]
  },
  {
   "cell_type": "code",
   "execution_count": 10,
   "metadata": {},
   "outputs": [
    {
     "name": "stdout",
     "output_type": "stream",
     "text": [
      "['Clark Kent, Bruce Wayne, Diana Prince, Barry Allen']\n"
     ]
    }
   ],
   "source": [
    "user = \"Clark Kent, Bruce Wayne, Diana Prince, Barry Allen\" #create a list\n",
    "list1 = []\n",
    "new_str = \"\"\n",
    "for i in range(len(user)):\n",
    "    if user[i] == \", \":\n",
    "        list1.append(new_str)\n",
    "        new_str = \"\"\n",
    "    elif i == len(user)-1:\n",
    "        new_str += user[i]\n",
    "        list1.append(new_str)\n",
    "    else:\n",
    "        new_str += user[i]\n",
    "print(list1)\n",
    "\n"
   ]
  },
  {
   "cell_type": "code",
   "execution_count": 14,
   "metadata": {},
   "outputs": [
    {
     "name": "stdout",
     "output_type": "stream",
     "text": [
      "List of students:\n",
      "hasib\n",
      "sadaf\n",
      "rafid\n"
     ]
    }
   ],
   "source": [
    "#Problem 1: write a program that takes students name as input \n",
    "#and keep adding them in a list until the user enters STOP. \n",
    "#Then the program should print each student name in a separate line.\n",
    "\n",
    "students = []\n",
    "\n",
    "while True:\n",
    "    student_name = input(\"Enter student name (or STOP/stop to end): \")\n",
    "    \n",
    "    if student_name == 'STOP' or student_name == 'stop':\n",
    "        break\n",
    "    \n",
    "    students.append(student_name)\n",
    "\n",
    "print(\"List of students:\")\n",
    "for student in students:\n",
    "    print(student)\n"
   ]
  },
  {
   "cell_type": "code",
   "execution_count": 30,
   "metadata": {},
   "outputs": [
    {
     "name": "stdout",
     "output_type": "stream",
     "text": [
      "string found\n"
     ]
    },
    {
     "data": {
      "text/plain": [
       "'j'"
      ]
     },
     "execution_count": 30,
     "metadata": {},
     "output_type": "execute_result"
    }
   ],
   "source": [
    "# Problem 2: write a function that takes a given list as an argument \n",
    "# and returns the first element of the list that is of string type.\n",
    "\n",
    "def founder(n):\n",
    "    for i in n:\n",
    "        if type(i) == str:\n",
    "            print(\"string found\")\n",
    "            return i\n",
    "founder([1, 2, 3, 4, 'j'])"
   ]
  },
  {
   "cell_type": "code",
   "execution_count": null,
   "metadata": {},
   "outputs": [],
   "source": [
    "# Problem 3: suppose we have a list as input that may have other lists inside it. \n",
    "# What we want is to copy the elements from inside list to the outside list directly.\n",
    "\n",
    "# Example:\n",
    "\n",
    "# Input: [2, [3, 4], 5, [\"Merry\", \"John\"]]\n",
    "\n",
    "# Output: [2, 3, 4, 5, \"Merry\", \"John\"]\n",
    "\n",
    "given = [2, [3, 4, 6], 5, [\"Merry\", \"John\"], \"Peter\"]\n",
    "output_list = []\n",
    "for i in range(len(given)):\n",
    "  if type(given[i]) == list:\n",
    "    for j in range(len(given[i])):\n",
    "      output_list.append(given[i][j])\n",
    "  else:\n",
    "    output_list.append(given[i])\n",
    "print(output_list)"
   ]
  },
  {
   "cell_type": "code",
   "execution_count": 2,
   "metadata": {},
   "outputs": [],
   "source": [
    "# Design a recursive function called nested_to_linear that takes a nested list from the user, \n",
    "# and returns the nested list as a linear one. Please refer to the example below to design your program \n",
    "# and check with the sample input below.\n",
    "# Note: Recursion must be used in the nested_to_linear function instead of only loop\n",
    "\n",
    "def nested_to_linear(my_list):\n",
    "   if my_list == []:\n",
    "      return my_list\n",
    "   if type(my_list[0])== list:\n",
    "      return nested_to_linear(my_list[0]) + nested_to_linear(my_list[1:])\n",
    "   return my_list[:1] + nested_to_linear(my_list[1:])\n",
    "\n",
    "\n",
    "\n",
    "\n",
    "my_list = [[\"start\", 10, [4, 2, [11, [9, \"mid\", 3, [1, 0], 6]], 8], \"Done\"]]\n",
    "print(\"The list is :\")\n",
    "print(my_list)\n",
    "print(\"The list after flattening is : \")\n",
    "print(nested_to_linear(my_list))"
   ]
  },
  {
   "cell_type": "code",
   "execution_count": 11,
   "metadata": {},
   "outputs": [
    {
     "name": "stdout",
     "output_type": "stream",
     "text": [
      "[7, 12, 4, 55, 'Hello', 2, 11, 61, 33, 42]\n"
     ]
    }
   ],
   "source": [
    "#Write a Python script that processes a given string s containing a mixture of numbers and non-digit characters separated by spaces. \n",
    "#The script should create a list my_list by splitting the string on spaces. If an element in the list contains only digits, \n",
    "#it should be converted to an integer and appended to my_list. If an element contains non-digit characters, it should be appended as it is. \n",
    "#Implement this logic using a loop and conditional statements.\n",
    "#Example Input:\n",
    "#s = '7 12 4 55 Hello 2 11 61 33 42'\n",
    "#Expected Output:\n",
    "#[7, 12, 4, 55, 'Hello', 2, 11, 61, 33, 42]\n",
    "#Explanation:\n",
    "#The given string s is processed, and the resulting list my_list contains integers for elements that are composed only of digits,\n",
    "#and non-integer elements for elements containing non-digit characters, such as the string 'Hello'.\n",
    "\n",
    "s = '7 12 4 55 Hello 2 11 61 33 42'\n",
    "my_list = []\n",
    "element = ''\n",
    "digit_check = False\n",
    "for i in s:\n",
    "  if i != ' ':\n",
    "    element+=i\n",
    "  else:\n",
    "    for j in element:\n",
    "      if ord(j)>= 48 and ord(j)<=57:\n",
    "        digit_check = True\n",
    "      else:\n",
    "        digit_check = False\n",
    "        break\n",
    "    if digit_check == True:\n",
    "       my_list.append(int(element))\n",
    "    else:\n",
    "      my_list.append(element)\n",
    "    element = ''\n",
    "\n",
    "if element != '':\n",
    "  my_list.append(int(element))\n",
    "print(my_list)"
   ]
  },
  {
   "cell_type": "code",
   "execution_count": null,
   "metadata": {},
   "outputs": [],
   "source": [
    "'''\n",
    "Write a recursive function in Python to check if a given list is a palindrome or not. \n",
    "A palindrome is a sequence that reads the same backward as forward.\n",
    "The function should return True if the list is a palindrome and False otherwise. \n",
    "Ensure that your solution is implemented using recursion.\n",
    "\n",
    "Sample Input:\n",
    "input_list = [1, 2, 3, 2, 1]\n",
    "\n",
    "Sample Output:\n",
    "True\n",
    "> **Explanation:** The given list [1, 2, 3, 2, 1] is a palindrome because it reads the same backward as forward.\n",
    "\n",
    "Sample Input:\n",
    "input_list = [1, 2, 3, 4, 5]\n",
    "Sample Output:\n",
    "False\n",
    "> **Explanation:** The given list [1, 2, 3, 4, 5] is not a palindrome as it does not read the same backward as forward.\n",
    "'''"
   ]
  },
  {
   "cell_type": "code",
   "execution_count": 1,
   "metadata": {},
   "outputs": [
    {
     "name": "stdout",
     "output_type": "stream",
     "text": [
      "Highest Scorer is Maxwell who scored 201\n"
     ]
    }
   ],
   "source": [
    "#Quiz3_Set_L\n",
    "\n",
    "def highestScorer(name, score_list):\n",
    "    score_index = 0\n",
    "    player = \"\"\n",
    "    highest_score = 0\n",
    "\n",
    "    for i in range(len(score_list)):\n",
    "        if score_list[i] > highest_score:\n",
    "            highest_score = score_list[i]\n",
    "            score_index = i\n",
    "\n",
    "    print(f\"Highest Scorer is {name[score_index]} who scored {score_list[score_index]}\")\n",
    "list1 = [\"Rohit\", \"Mitchell\", \"Maxwell\", \"Dawid\"]\n",
    "list2 = [131, 177, 201, 140]\n",
    "\n",
    "highestScorer(list1, list2)"
   ]
  },
  {
   "cell_type": "code",
   "execution_count": 2,
   "metadata": {},
   "outputs": [
    {
     "name": "stdout",
     "output_type": "stream",
     "text": [
      "[5, 2, 3, 4, 6]\n"
     ]
    }
   ],
   "source": [
    "#adding to list without append\n",
    "list1 = []\n",
    "for i in range(5):\n",
    "    temp = int(input(\"type a number\"))\n",
    "    #list.append(temp)\n",
    "    list1 += [temp]\n",
    "print(list1)"
   ]
  },
  {
   "cell_type": "code",
   "execution_count": 10,
   "metadata": {},
   "outputs": [
    {
     "name": "stdout",
     "output_type": "stream",
     "text": [
      "2 is the minimum value and it's index is 6\n"
     ]
    }
   ],
   "source": [
    "#Figure out the minimum value and that index of a given list\n",
    "\n",
    "list1 = [69,5,7,9,11,16,2]\n",
    "min_value = list1[0]\n",
    "idx = 0\n",
    "for i in range(len(list1)):\n",
    "    if list1[i] < min_value:\n",
    "        min_value = list1[i]\n",
    "        idx = i\n",
    "    else:\n",
    "        pass\n",
    "print(f\"{min_value} is the minimum value and it's index is {i}\")"
   ]
  },
  {
   "cell_type": "code",
   "execution_count": 24,
   "metadata": {},
   "outputs": [
    {
     "name": "stdout",
     "output_type": "stream",
     "text": [
      "[1, 2]\n"
     ]
    }
   ],
   "source": [
    "#LeetCode TwoSum\n",
    "def twoSum(nums,target):\n",
    "    import numpy as np\n",
    "    arr1 = np.array(nums)\n",
    "    idx1 = 0\n",
    "    idx2 = 0\n",
    "    list1 = []\n",
    "    for i in range(arr1.size):\n",
    "        for j in range(i+1,arr1.size):\n",
    "            if arr1[i] + arr1[j] == target:\n",
    "                idx1 = i\n",
    "                idx2 = j \n",
    "    list1 += idx1,idx2\n",
    "    return list1\n",
    "s= twoSum([2,5,5,11],10)\n",
    "print(s)"
   ]
  },
  {
   "cell_type": "code",
   "execution_count": 63,
   "metadata": {},
   "outputs": [
    {
     "name": "stdout",
     "output_type": "stream",
     "text": [
      "2\n"
     ]
    }
   ],
   "source": [
    "#LeetCode Best Time to Buy and Sell Stock\n",
    "\n",
    "def maxProfit(prices):\n",
    "    import numpy as np\n",
    "    arr1 = np.array(prices)\n",
    "    min = arr1[0]\n",
    "    profit = 0\n",
    "    max_profit = 0\n",
    "    for i in range(arr1.size):\n",
    "        if arr1[i] < min:\n",
    "            min = arr1[i]\n",
    "        profit = arr1[i]-min\n",
    "        if profit > max_profit:\n",
    "            max_profit = profit\n",
    "    return max_profit\n",
    "        \n",
    "s = maxProfit([2,4,1])\n",
    "print(s)"
   ]
  },
  {
   "cell_type": "code",
   "execution_count": 18,
   "metadata": {},
   "outputs": [
    {
     "name": "stdout",
     "output_type": "stream",
     "text": [
      "True\n"
     ]
    }
   ],
   "source": [
    "#LeetCode Contains Duplicate\n",
    "\n",
    "def containsDuplicate(nums):\n",
    "    sorted_nums = sorted(nums)\n",
    "    \n",
    "    for i in range(len(sorted_nums) - 1):\n",
    "        if sorted_nums[i] == sorted_nums[i + 1]:\n",
    "            return True\n",
    "            \n",
    "    return False\n",
    "\n",
    "s = containsDuplicate([1,2,3,1])\n",
    "print(s)\n"
   ]
  },
  {
   "cell_type": "code",
   "execution_count": null,
   "metadata": {},
   "outputs": [],
   "source": [
    "#conversion of text from upper to lower without lower function\n",
    "\n",
    "text = 'I Love CSE.'\n",
    "new_text = ''\n",
    "for char in text:\n",
    "    if 65<=ord(char)<=90:\n",
    "        lower_code = ord(char) + 32\n",
    "        char = chr(lower_code)\n",
    "    new_text += char\n",
    "print(new_text)"
   ]
  }
 ],
 "metadata": {
  "kernelspec": {
   "display_name": "Python 3",
   "language": "python",
   "name": "python3"
  },
  "language_info": {
   "codemirror_mode": {
    "name": "ipython",
    "version": 3
   },
   "file_extension": ".py",
   "mimetype": "text/x-python",
   "name": "python",
   "nbconvert_exporter": "python",
   "pygments_lexer": "ipython3",
   "version": "3.12.0"
  }
 },
 "nbformat": 4,
 "nbformat_minor": 2
}
