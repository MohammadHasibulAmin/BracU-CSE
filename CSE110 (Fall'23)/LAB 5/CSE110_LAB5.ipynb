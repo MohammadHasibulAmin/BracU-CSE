{
  "cells": [
    {
      "cell_type": "code",
      "execution_count": 1,
      "metadata": {
        "colab": {
          "base_uri": "https://localhost:8080/"
        },
        "id": "a7NmLzSU8WrR",
        "outputId": "8869597c-7900-4c5b-a49a-08abacf84b07"
      },
      "outputs": [
        {
          "output_type": "stream",
          "name": "stdout",
          "text": [
            "type any number : 10\n",
            "even\n"
          ]
        }
      ],
      "source": [
        "#CW-1.1\n",
        "def evenchecker(n):\n",
        "    if n%2==0:\n",
        "        print(\"even\")\n",
        "    else:\n",
        "        print(\"odd\")\n",
        "evenchecker(int(input(\"type any number : \")))\n",
        ""
      ]
    },
    {
      "cell_type": "code",
      "execution_count": 2,
      "metadata": {
        "colab": {
          "base_uri": "https://localhost:8080/"
        },
        "id": "dRJG3h4w8WrS",
        "outputId": "d2aecdad-7861-46a2-f6bf-b153a1e312cc"
      },
      "outputs": [
        {
          "output_type": "stream",
          "name": "stdout",
          "text": [
            "type any number : 17\n",
            "False\n"
          ]
        }
      ],
      "source": [
        "#CW-1.2\n",
        "def iseven(n):\n",
        "    if n%2==0:\n",
        "        return True\n",
        "    else:\n",
        "        return False\n",
        "user = iseven(int(input(\"type any number : \")))\n",
        "print(user)"
      ]
    },
    {
      "cell_type": "code",
      "execution_count": 3,
      "metadata": {
        "colab": {
          "base_uri": "https://localhost:8080/"
        },
        "id": "uhiehKio8WrS",
        "outputId": "244f03c4-e241-4b7e-f288-16a4c6661e44"
      },
      "outputs": [
        {
          "output_type": "stream",
          "name": "stdout",
          "text": [
            "type any number : -5\n",
            "False\n"
          ]
        }
      ],
      "source": [
        "#CW-1.3\n",
        "def ispos(n):\n",
        "    if 0 < n:\n",
        "        return True\n",
        "    else:\n",
        "        return False\n",
        "user = ispos(int(input(\"type any number : \")))\n",
        "print(user)"
      ]
    },
    {
      "cell_type": "code",
      "execution_count": 4,
      "metadata": {
        "colab": {
          "base_uri": "https://localhost:8080/"
        },
        "id": "gqKlrkVF8WrS",
        "outputId": "fb87ed1a-1857-4e7b-93da-f6dd3d42d64f"
      },
      "outputs": [
        {
          "output_type": "stream",
          "name": "stdout",
          "text": [
            "type any number : 10\n",
            "2 4 6 8 10 "
          ]
        }
      ],
      "source": [
        "#CW-1.4\n",
        "def sequence(n):\n",
        "    if ispos(n):\n",
        "        for i in range(1,n+1):\n",
        "            if iseven(i):\n",
        "                print(i, end=\" \")\n",
        "    else:\n",
        "        for i in range(n,0):\n",
        "            if not (iseven(i)):\n",
        "                print(i,end=\" \")\n",
        "sequence(int(input(\"type any number : \")))"
      ]
    },
    {
      "cell_type": "code",
      "execution_count": 5,
      "metadata": {
        "colab": {
          "base_uri": "https://localhost:8080/"
        },
        "id": "uFwltP0j8WrT",
        "outputId": "281a1e25-f074-4e72-fe96-14ca89420ff2"
      },
      "outputs": [
        {
          "name": "stdout",
          "output_type": "stream",
          "text": [
            "7\n",
            "5\n",
            "10\n"
          ]
        },
        {
          "output_type": "execute_result",
          "data": {
            "text/plain": [
              "True"
            ]
          },
          "metadata": {},
          "execution_count": 5
        }
      ],
      "source": [
        "#CW-2.1\n",
        "def is_valid_traingle(x,y,z):\n",
        "    if x+y > z and x+z > y and y+z > x:\n",
        "        return True\n",
        "    else:\n",
        "        return False\n",
        "is_valid_traingle(int(input(\"\")),int(input(\"\")),int(input(\"\")))"
      ]
    },
    {
      "cell_type": "code",
      "execution_count": 6,
      "metadata": {
        "colab": {
          "base_uri": "https://localhost:8080/"
        },
        "id": "K0bJWUz28WrT",
        "outputId": "c864b62f-0b7c-44e3-ba17-b80df6dc9395"
      },
      "outputs": [
        {
          "output_type": "stream",
          "name": "stdout",
          "text": [
            "7\n",
            "5\n",
            "10\n",
            "16.24807680927192\n"
          ]
        }
      ],
      "source": [
        "#CW-2.2\n",
        "def tri_area(x,y,z):\n",
        "    if is_valid_traingle(x,y,z):\n",
        "        s = (x+y+z)/2\n",
        "        area = (s*(s-x)*(s-y)*(s-z)) ** 0.5\n",
        "        print(area)\n",
        "    else:\n",
        "        print(\"cant' form a triangle\")\n",
        "tri_area(int(input(\"\")),int(input(\"\")),int(input(\"\")))"
      ]
    },
    {
      "cell_type": "code",
      "execution_count": 8,
      "metadata": {
        "colab": {
          "base_uri": "https://localhost:8080/"
        },
        "id": "hKeax8GD8WrT",
        "outputId": "320c290e-ac26-45f0-9af5-1478f6bdac41"
      },
      "outputs": [
        {
          "output_type": "stream",
          "name": "stdout",
          "text": [
            "enter the value of radius 5\n",
            "78.53999999999999\n"
          ]
        }
      ],
      "source": [
        "#CW-3.1\n",
        "pie = 3.1416\n",
        "\n",
        "def circle(n):\n",
        "    area = pie * (n ** 2)\n",
        "    return area\n",
        "\n",
        "radius = int(input(\"enter the value of radius \"))\n",
        "result = circle(radius)\n",
        "print(result)"
      ]
    },
    {
      "cell_type": "code",
      "execution_count": 9,
      "metadata": {
        "colab": {
          "base_uri": "https://localhost:8080/"
        },
        "id": "wRA4M1U18WrT",
        "outputId": "87360185-241b-4d08-ae94-835d542a7fc1"
      },
      "outputs": [
        {
          "output_type": "stream",
          "name": "stdout",
          "text": [
            "enter the value : 5\n",
            "523.5999999999999\n"
          ]
        }
      ],
      "source": [
        "#CW-3.2\n",
        "pie = 3.1416\n",
        "\n",
        "def sphere(n):\n",
        "    volume = (4/3) * pie * n**3\n",
        "    return volume\n",
        "rdr = int(input(\"enter the value : \"))\n",
        "result = sphere(rdr)\n",
        "print(result)\n"
      ]
    },
    {
      "cell_type": "code",
      "execution_count": 12,
      "metadata": {
        "colab": {
          "base_uri": "https://localhost:8080/"
        },
        "id": "BOUwB6L48WrT",
        "outputId": "a2daaccc-5b06-4b02-add4-c1d5feb8164c"
      },
      "outputs": [
        {
          "output_type": "stream",
          "name": "stdout",
          "text": [
            "Circle-1 can fit inside Circle-2 and 28.274 square units would be left\n"
          ]
        }
      ],
      "source": [
        "#3.3\n",
        "def fitting(d1,d2,dim):\n",
        "  if d1!=d2:\n",
        "   if dim==3:\n",
        "    v1=sphere(d1/2)\n",
        "    v2=sphere(d2/2)\n",
        "    if v1>v2:\n",
        "      print(f\"Sphere-2 can fit inside Sphere-1 and {round((v1-v2),3)} cubic units would be left\")\n",
        "    elif v2>v1:\n",
        "      print(f\"Sphere-1 can fit inside Sphere-2 and {round((v2-v1),3)} cubic units would be left\")\n",
        "   else:\n",
        "    a1=circle(d1/2)\n",
        "    a2=circle(d2/2)\n",
        "    if a1>a2:\n",
        "      print(f\"Circle-2 can fit inside Circle-1 and {round((a1-a2),3)} square units would be left\")\n",
        "    elif a2>a1:\n",
        "      print(f\"Circle-1 can fit inside Circle-2 and {round((a2-a1),3)} square units would be left\")\n",
        "  else:\n",
        "    print(\"Impossible to fit\")\n",
        "fitting(8,10,2)"
      ]
    },
    {
      "cell_type": "code",
      "execution_count": null,
      "metadata": {
        "colab": {
          "base_uri": "https://localhost:8080/"
        },
        "id": "okHfUqjMpzIt",
        "outputId": "0c66a1e8-9e12-41fd-b080-54999cc08bf3"
      },
      "outputs": [
        {
          "name": "stdout",
          "output_type": "stream",
          "text": [
            "enter any value : 7\n",
            "True\n"
          ]
        }
      ],
      "source": [
        "#HW-1.1\n",
        "\n",
        "def is_prime(n):\n",
        "    if n<2:\n",
        "        return False\n",
        "    for i in range(2,int(n**0.5) + 1):\n",
        "        if n % i == 0:\n",
        "            return False\n",
        "    return True\n",
        "\n",
        "prime_check = is_prime(int(input(\"enter any value : \")))\n",
        "print(prime_check)"
      ]
    },
    {
      "cell_type": "code",
      "execution_count": null,
      "metadata": {
        "colab": {
          "base_uri": "https://localhost:8080/"
        },
        "id": "Gol629KMpzIu",
        "outputId": "5720b782-7a68-41c2-ab02-c92e45d25531"
      },
      "outputs": [
        {
          "name": "stdout",
          "output_type": "stream",
          "text": [
            "enter any value : 6\n",
            "True\n"
          ]
        }
      ],
      "source": [
        "#HW-1.2\n",
        "\n",
        "def is_perfect(n):\n",
        "    sum = 0\n",
        "    for i in range(1,n):\n",
        "        if n%i==0:\n",
        "            sum +=i\n",
        "    return sum == n\n",
        "perfect_check = is_perfect(int(input(\"enter any value : \")))\n",
        "print(perfect_check)"
      ]
    },
    {
      "cell_type": "code",
      "execution_count": null,
      "metadata": {
        "colab": {
          "base_uri": "https://localhost:8080/"
        },
        "id": "lDkVOZnVpzIv",
        "outputId": "8c079749-fd04-400b-dab8-878030ecf9f0"
      },
      "outputs": [
        {
          "name": "stdout",
          "output_type": "stream",
          "text": [
            "enter any value : 8\n",
            "23\n"
          ]
        }
      ],
      "source": [
        "#HW-1.3\n",
        "\n",
        "def special_sum(n):\n",
        "    sum = 0\n",
        "    for i in range(2,n+1):\n",
        "        if is_prime(i) or is_perfect(i):\n",
        "            sum += i\n",
        "    return sum\n",
        "result = special_sum(int(input(\"enter any value : \")))\n",
        "print(result)"
      ]
    },
    {
      "cell_type": "code",
      "execution_count": null,
      "metadata": {
        "colab": {
          "base_uri": "https://localhost:8080/"
        },
        "id": "N3BFboKupzIv",
        "outputId": "24de5c2d-b7ee-45be-e7e4-f6814e5bff38"
      },
      "outputs": [
        {
          "name": "stdout",
          "output_type": "stream",
          "text": [
            "5\n",
            "....."
          ]
        }
      ],
      "source": [
        "#HW-2.1\n",
        "\n",
        "def show_dots(n):\n",
        "    for i in range(1,n+1):\n",
        "        print(\".\",end=\"\")\n",
        "show_dots(int(input(\"\")))"
      ]
    },
    {
      "cell_type": "code",
      "execution_count": null,
      "metadata": {
        "colab": {
          "base_uri": "https://localhost:8080/"
        },
        "id": "AVWrEt7BpzIv",
        "outputId": "b2cca25e-e976-4646-cf7f-3e854a2ceffd"
      },
      "outputs": [
        {
          "name": "stdout",
          "output_type": "stream",
          "text": [
            "enter any value : 5\n",
            "123454321"
          ]
        }
      ],
      "source": [
        "#HW-2.2\n",
        "\n",
        "def show_palindrome(n):\n",
        "  for i in range(1,n):\n",
        "    print(i,end=\"\")\n",
        "  for i in range(n,0,-1):\n",
        "    print(i,end=\"\")\n",
        "show_palindrome(int(input(\"enter any value : \")))"
      ]
    },
    {
      "cell_type": "code",
      "execution_count": null,
      "metadata": {
        "colab": {
          "base_uri": "https://localhost:8080/"
        },
        "id": "ywk-gpjWpzIv",
        "outputId": "53657e63-568b-4784-8abc-dd9861f43f39"
      },
      "outputs": [
        {
          "name": "stdout",
          "output_type": "stream",
          "text": [
            "....1....\n",
            "...121...\n",
            "..12321..\n",
            ".1234321.\n",
            "123454321\n"
          ]
        }
      ],
      "source": [
        "#HW-2.3\n",
        "\n",
        "def show_dots(n):\n",
        "    for i in range(1,n+1):\n",
        "        print(\".\",end=\"\")\n",
        "def show_palindrome(n):\n",
        "  for i in range(1,n):\n",
        "    print(i,end=\"\")\n",
        "  for i in range(n,0,-1):\n",
        "    print(i,end=\"\")\n",
        "def show_triangle(n):\n",
        "  for i in range(1,n+1):\n",
        "    show_dots(n-i)\n",
        "    show_palindrome(i)\n",
        "    show_dots(n-i)\n",
        "    print()\n",
        "show_triangle(5)"
      ]
    },
    {
      "cell_type": "code",
      "execution_count": null,
      "metadata": {
        "colab": {
          "base_uri": "https://localhost:8080/"
        },
        "id": "SetQ1dbUpzIv",
        "outputId": "8bef775c-6c52-4e6a-99f1-b3e66f3bbc37"
      },
      "outputs": [
        {
          "name": "stdout",
          "output_type": "stream",
          "text": [
            "1260\n"
          ]
        }
      ],
      "source": [
        "#HW-3.1\n",
        "def calc_tax(age,salary):\n",
        "  if age<18 or salary<10000:\n",
        "    return 0\n",
        "  elif 10000<=salary<=20000:\n",
        "    tax= int((salary*7)/100)\n",
        "    return tax\n",
        "  elif salary>20000:\n",
        "    tax= int((salary*14)/100)\n",
        "    return tax\n",
        "result = calc_tax(20,18000)\n",
        "print(result)"
      ]
    },
    {
      "cell_type": "code",
      "execution_count": null,
      "metadata": {
        "colab": {
          "base_uri": "https://localhost:8080/"
        },
        "id": "8gC_5fy4pzIw",
        "outputId": "245222ce-f837-4253-a399-8a92aa1d9f53"
      },
      "outputs": [
        {
          "name": "stdout",
          "output_type": "stream",
          "text": [
            "22\n",
            "8000\n",
            "Month 1 , tax: 0\n",
            "15000\n",
            "Month 2 , tax: 1050\n",
            "22000\n",
            "Month 3 , tax: 3080\n",
            "2300\n",
            "Month 4 , tax: 0\n",
            "15300\n",
            "Month 5 , tax: 1071\n",
            "21000\n",
            "Month 6 , tax: 2940\n",
            "34000\n",
            "Month 7 , tax: 4760\n",
            "9000\n",
            "Month 8 , tax: 0\n",
            "27000\n",
            "Month 9 , tax: 3780\n",
            "88000\n",
            "Month 10 , tax: 12320\n",
            "32000\n",
            "Month 11 , tax: 4480\n",
            "7300\n",
            "Month 12 , tax: 0\n",
            "Total Yearly Tax: 33481\n"
          ]
        }
      ],
      "source": [
        "#HW-3.2\n",
        "def calc_tax(age,salary):\n",
        "  if age<18 or salary<10000:\n",
        "    return 0\n",
        "  elif 10000<=salary<=20000:\n",
        "    tax= int((salary*7)/100)\n",
        "    return tax\n",
        "  elif salary>20000:\n",
        "    tax= int((salary*14)/100)\n",
        "    return tax\n",
        "def calc_yearly_tax():\n",
        "  age=int(input())\n",
        "  sum=0\n",
        "  for i in range(1,13):\n",
        "    salary=int(input())\n",
        "    tax=calc_tax(age,salary)\n",
        "    sum+=tax\n",
        "    print(\"Month\",i,\",\",\"tax:\",tax)\n",
        "  print(\"Total Yearly Tax:\",sum)\n",
        "calc_yearly_tax()\n"
      ]
    },
    {
      "cell_type": "code",
      "execution_count": null,
      "metadata": {
        "colab": {
          "base_uri": "https://localhost:8080/"
        },
        "id": "h_3dVUx7pzIw",
        "outputId": "00324087-9d8c-45b5-9df1-ead93d48c558"
      },
      "outputs": [
        {
          "name": "stdout",
          "output_type": "stream",
          "text": [
            "12345\n",
            "5\n",
            "4\n",
            "3\n",
            "2\n",
            "1\n"
          ]
        }
      ],
      "source": [
        "#HW-4.1\n",
        "def reverse_digits(n):\n",
        "  if n<10:\n",
        "    print(n)\n",
        "  else:\n",
        "   print(n%10)\n",
        "   reverse_digits(n//10)\n",
        "reverse_digits(int(input()))"
      ]
    },
    {
      "cell_type": "code",
      "execution_count": null,
      "metadata": {
        "colab": {
          "base_uri": "https://localhost:8080/"
        },
        "id": "DULQfGg-pzIw",
        "outputId": "dc4f7450-a5c9-45c3-b9ed-4c519cada804"
      },
      "outputs": [
        {
          "name": "stdout",
          "output_type": "stream",
          "text": [
            "3\n",
            "5\n",
            "243\n"
          ]
        }
      ],
      "source": [
        "#HW-4.2\n",
        "def power(n,pwr):\n",
        "  if pwr==0:\n",
        "    return 1\n",
        "  else:\n",
        "    return n*power(n,pwr-1)\n",
        "a=int(input())\n",
        "n=int(input())\n",
        "print(power(a,n))"
      ]
    },
    {
      "cell_type": "code",
      "execution_count": null,
      "metadata": {
        "colab": {
          "base_uri": "https://localhost:8080/"
        },
        "id": "BPx3hd5jpzIx",
        "outputId": "1db6eb04-3274-4a1a-e212-4e499237730d"
      },
      "outputs": [
        {
          "name": "stdout",
          "output_type": "stream",
          "text": [
            "enter value : 5\n",
            "3\n"
          ]
        }
      ],
      "source": [
        "#HW-5.0\n",
        "def sequence_iterative(n):\n",
        "  sum=0\n",
        "  for i in range(1,n+1):\n",
        "    if i%2!=0:\n",
        "      sum+=i\n",
        "    else:\n",
        "      sum-=i\n",
        "  print(sum)\n",
        "sequence_iterative(int(input(\"enter value : \")))\n"
      ]
    },
    {
      "cell_type": "code",
      "execution_count": null,
      "metadata": {
        "colab": {
          "base_uri": "https://localhost:8080/"
        },
        "id": "YXghUc6XpzIx",
        "outputId": "e2318d47-6535-4ca9-caee-2dcfbc46fc5d"
      },
      "outputs": [
        {
          "name": "stdout",
          "output_type": "stream",
          "text": [
            "5\n"
          ]
        },
        {
          "data": {
            "text/plain": [
              "3"
            ]
          },
          "execution_count": 14,
          "metadata": {},
          "output_type": "execute_result"
        }
      ],
      "source": [
        "#HW-5.1\n",
        "def sequence_recursive(x,y=1):\n",
        "  if y==x:\n",
        "    if y%2!=0:\n",
        "     return y\n",
        "    else:\n",
        "     return -y\n",
        "  elif y%2!=0:\n",
        "      return y+sequence_recursive(x,y+1)\n",
        "  else:\n",
        "      return -y+sequence_recursive(x,y+1)\n",
        "sequence_recursive(int(input()))\n"
      ]
    }
  ],
  "metadata": {
    "colab": {
      "provenance": []
    },
    "kernelspec": {
      "display_name": "Python 3",
      "language": "python",
      "name": "python3"
    },
    "language_info": {
      "codemirror_mode": {
        "name": "ipython",
        "version": 3
      },
      "file_extension": ".py",
      "mimetype": "text/x-python",
      "name": "python",
      "nbconvert_exporter": "python",
      "pygments_lexer": "ipython3",
      "version": "3.12.0"
    }
  },
  "nbformat": 4,
  "nbformat_minor": 0
}