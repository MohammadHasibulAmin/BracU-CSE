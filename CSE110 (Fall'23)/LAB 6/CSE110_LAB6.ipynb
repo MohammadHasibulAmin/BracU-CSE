{
  "nbformat": 4,
  "nbformat_minor": 0,
  "metadata": {
    "colab": {
      "provenance": []
    },
    "kernelspec": {
      "name": "python3",
      "display_name": "Python 3"
    },
    "language_info": {
      "name": "python"
    }
  },
  "cells": [
    {
      "cell_type": "code",
      "execution_count": null,
      "metadata": {
        "colab": {
          "base_uri": "https://localhost:8080/"
        },
        "id": "ldcIfZn9JlZA",
        "outputId": "ee04c268-353b-41cb-f05f-571695f241b8"
      },
      "outputs": [
        {
          "output_type": "stream",
          "name": "stdout",
          "text": [
            "enter any value : 5\n",
            "[5]\n",
            "enter any value : 30\n",
            "[5, 30]\n",
            "enter any value : 2\n",
            "[5, 30, 2]\n",
            "enter any value : 4\n",
            "[5, 30, 2, 4]\n",
            "enter any value : -6\n",
            "[5, 30, 2, 4, -6]\n"
          ]
        }
      ],
      "source": [
        "#Task1\n",
        "list1 = []\n",
        "for i in range(5):\n",
        "  user = int(input(\"enter any value : \"))\n",
        "  list1 += [user]\n",
        "  print(list1)"
      ]
    },
    {
      "cell_type": "code",
      "source": [
        "#Task2\n",
        "user = \"[5, -5, 100, 1, 0]\"[1:-1] + \",\"\n",
        "list1 = []\n",
        "reversed_list = []\n",
        "new_str = \"\"\n",
        "for i in range(len(user)):\n",
        "  if user[i] == \",\":\n",
        "    list1.append(int(new_str))\n",
        "    new_str = \"\"\n",
        "  else:\n",
        "    new_str += user[i]\n",
        "print(list1)\n",
        "for i in range(len(list1)-1,-1,-1):\n",
        "  reversed_list.append(list1[i])\n",
        "print(reversed_list)"
      ],
      "metadata": {
        "colab": {
          "base_uri": "https://localhost:8080/"
        },
        "id": "4jvO61UTKGKg",
        "outputId": "b4267e3c-1ac4-4ed0-a6bf-293680408427"
      },
      "execution_count": null,
      "outputs": [
        {
          "output_type": "stream",
          "name": "stdout",
          "text": [
            "[5, -5, 100, 1, 0]\n",
            "[0, 1, 100, -5, 5]\n"
          ]
        }
      ]
    },
    {
      "cell_type": "code",
      "source": [
        "#Task3\n",
        "user = \"10, 20, 24, 25, 26, 35, 70\"+\",\"\n",
        "list1 = []\n",
        "new_str = \"\"\n",
        "\n",
        "for i in range(len(user)):\n",
        "  if user[i] == \",\":\n",
        "    list1.append(new_str)\n",
        "    new_str = \"\"\n",
        "  else:\n",
        "    new_str += user[i]\n",
        "print(\"guchano list:\",list1)\n",
        "if len(list1) < 4 :\n",
        "  print(\"Not Possible\")\n",
        "else:\n",
        "  print(\"sliced list:\",list1[2:len(list1)-2])\n"
      ],
      "metadata": {
        "colab": {
          "base_uri": "https://localhost:8080/"
        },
        "id": "K3cdtceVKP9r",
        "outputId": "e860405e-0273-4fbf-dad8-a5fa35f42c31"
      },
      "execution_count": null,
      "outputs": [
        {
          "output_type": "stream",
          "name": "stdout",
          "text": [
            "guchano list: ['10', ' 20', ' 24', ' 25', ' 26', ' 35', ' 70']\n",
            "sliced list: [' 24', ' 25', ' 26']\n"
          ]
        }
      ]
    },
    {
      "cell_type": "code",
      "source": [
        "#Task4\n",
        "List_one = [1, 4, 3, 2, 5]\n",
        "List_two = [8, 7, 6, 9]\n",
        "\n",
        "flag = False\n",
        "\n",
        "for i in range(len(List_one)):\n",
        "  if List_one[i] in List_two:\n",
        "    flag = True\n",
        "    break\n",
        "print(flag)\n",
        "\n",
        "\n"
      ],
      "metadata": {
        "colab": {
          "base_uri": "https://localhost:8080/"
        },
        "id": "3iLjW4u8u9Jw",
        "outputId": "b0cbfe49-81a0-481c-801f-971f12e53dda"
      },
      "execution_count": null,
      "outputs": [
        {
          "output_type": "stream",
          "name": "stdout",
          "text": [
            "False\n"
          ]
        }
      ]
    },
    {
      "cell_type": "code",
      "source": [
        "#Task5\n",
        "List_one = [1, 4, 7, 5]\n",
        "List_two = [6, 1, 3, 9]\n",
        "new_List = List_one[:len(List_one)-1]\n",
        "print(new_List+List_two)\n"
      ],
      "metadata": {
        "colab": {
          "base_uri": "https://localhost:8080/"
        },
        "id": "WH87I9K-y9vw",
        "outputId": "db649efc-07bc-4f3a-e370-3e9999542a9b"
      },
      "execution_count": null,
      "outputs": [
        {
          "output_type": "stream",
          "name": "stdout",
          "text": [
            "[1, 4, 7, 6, 1, 3, 9]\n"
          ]
        }
      ]
    },
    {
      "cell_type": "code",
      "source": [
        "#Task5 (Other Way)\n",
        "List_one = [1, 4, 7, 5]\n",
        "List_two = [6, 1, 3, 9]\n",
        "\n",
        "for i in range(len(List_one)):\n",
        "  if i == len(List_one)-1:\n",
        "    List_one = List_one[:len(List_one)-1]\n",
        "print(List_one+List_two)\n",
        "\n"
      ],
      "metadata": {
        "colab": {
          "base_uri": "https://localhost:8080/"
        },
        "id": "Ku6L9-f00JIF",
        "outputId": "8cc48751-610f-4daa-a239-3d7fd6ac926e"
      },
      "execution_count": null,
      "outputs": [
        {
          "output_type": "stream",
          "name": "stdout",
          "text": [
            "[1, 4, 7, 6, 1, 3, 9]\n"
          ]
        }
      ]
    },
    {
      "cell_type": "code",
      "source": [
        "#Task6\n",
        "list1 = [1, 2, 3, 4, 5, 6, 7, 8, 9]\n",
        "list2 = [10, 11, 12, -13, -14, -15,-16]\n",
        "newlist = []\n",
        "\n",
        "for i in range(len(list1)):\n",
        "  if list1[i] % 2 == 0:\n",
        "    newlist.append(list1[i])\n",
        "for i in range(len(list2)):\n",
        "  if list2[i] % 2 == 0:\n",
        "    newlist.append(list2[i])\n",
        "print(newlist)\n",
        "\n"
      ],
      "metadata": {
        "colab": {
          "base_uri": "https://localhost:8080/"
        },
        "id": "Ma32tb1N1SbM",
        "outputId": "e43e9288-eac5-4591-aed7-908cd916a43f"
      },
      "execution_count": null,
      "outputs": [
        {
          "output_type": "stream",
          "name": "stdout",
          "text": [
            "[2, 4, 6, 8, 10, 12, -14, -16]\n"
          ]
        }
      ]
    },
    {
      "cell_type": "code",
      "source": [
        "#Task7\n",
        "def rec_list(n):\n",
        "  r_list = []\n",
        "  for i in range(len(n)):\n",
        "    if type(n[i]) != list:\n",
        "      r_list.append(n[i])\n",
        "    else:\n",
        "      r_list += rec_list(n[i])\n",
        "  return r_list\n",
        "list1 = [\"start\", 10, [4, 2, [11, [9, \"mid\", 3, [1, 0], 6]], 8], \"Done\"]\n",
        "rec_list(list1)\n",
        "\n",
        "# def rec_list(n):\n",
        "#   r_list = []\n",
        "#   for i in n:\n",
        "#     if type(i) == list:\n",
        "#        r_list += rec_list(i)\n",
        "#     else:\n",
        "#       r_list.append(i)\n",
        "#   return r_list\n",
        "# list1 = [\"start\", 10, [4, 2, [11, [9, \"mid\", 3, [1, 0], 6]], 8], \"Done\"]\n",
        "# rec_list(list1)"
      ],
      "metadata": {
        "id": "EmAEqS-36cpJ"
      },
      "execution_count": null,
      "outputs": []
    },
    {
      "cell_type": "code",
      "source": [
        "#Task8\n",
        "grade_list = []\n",
        "for i in range(5):\n",
        "  user = input()\n",
        "  mod_user = user[1:-1]\n",
        "  for i in range(len(mod_user)):\n",
        "    if mod_user[i] == \",\":\n",
        "      name = mod_user[:i]\n",
        "      gpa = float(mod_user[i+1:])\n",
        "      new_list = [name,gpa]\n",
        "      grade_list.append(new_list)\n",
        "      print(grade_list)"
      ],
      "metadata": {
        "colab": {
          "base_uri": "https://localhost:8080/"
        },
        "id": "cTCPYg0f2EJj",
        "outputId": "429cb14c-8830-4253-9fe6-cfb700f230b1"
      },
      "execution_count": null,
      "outputs": [
        {
          "output_type": "stream",
          "name": "stdout",
          "text": [
            "[arif,3.7]\n",
            "[['arif', 3.7]]\n",
            "[syed,4.0]\n",
            "[['arif', 3.7], ['syed', 4.0]]\n",
            "[rafin,3.3]\n",
            "[['arif', 3.7], ['syed', 4.0], ['rafin', 3.3]]\n",
            "[nuha,3.7]\n",
            "[['arif', 3.7], ['syed', 4.0], ['rafin', 3.3], ['nuha', 3.7]]\n",
            "[safi,3.0]\n",
            "[['arif', 3.7], ['syed', 4.0], ['rafin', 3.3], ['nuha', 3.7], ['safi', 3.0]]\n"
          ]
        }
      ]
    }
  ]
}